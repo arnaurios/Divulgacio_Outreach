{
 "cells": [
  {
   "cell_type": "markdown",
   "id": "designed-cruise",
   "metadata": {},
   "source": [
    "## Activitat 4: Massa màxima d’una estrella de neutrons\n",
    "En aquesta activitat, utilitzareu un model matemàtic per esbrinar les propietats físiques dels interiors de les estrelles de neutrons i predir la massa màxima d’una estrella de neutrons.\n",
    "\n",
    "Les estrelles de neutrons són objectes astrofísics detectats mitjançant telescopis de ràdio i raigs X o mitjançant ones gravitacionals. Podeu pensar en una estrella de neutrons com un nucli molt gran.\n",
    "\n",
    "A continuació es donen valors de la densitat central d'una estrella de neutrons en unitats de $10^{17}$ kg/m$^3$. Podeu utilitzar el valor que heu obtingut a l’***Activitat 3c*** introduint-los a continuació. A la segona fila es pot introduir un radi típic d’estrelles de neutrons de $10 km$. No es permeten totes les combinacions de densitat i radi i, en aquests casos, veureu un perfil nul i una notificació que us advertira que els valors no són vàlids.\n",
    "\n",
    "La ***Gràfica 5***, a sota, mostra el perfil de pressió dins d’una estrella de neutrons en funció de la distància al centre de l'estel, $r$. Així doncs, el centre de l'estel és a $r = 0$ (a l’esquerra) i la seva superfície s'obté quan $r$ és igual al radi de l'estrella, $r = R$ (cap a la dreta). La pressió és més gran al centre i disminueix constantment amb r, fins que s'esvaeix a la seva superfície.\n",
    "\n",
    "PS: les dades utilitzades per crear la ***Gràfica 5*** són calculades pel codi, pero inspeccionar-lo al final de la pàgina premer el botó ***Click there to togle on/off the raw code***. "
   ]
  },
  {
   "cell_type": "code",
   "execution_count": null,
   "id": "great-color",
   "metadata": {},
   "outputs": [],
   "source": [
    "import ipywidgets as widgets\n",
    "import matplotlib.pyplot as plt\n",
    "import numpy as np\n",
    "\n",
    "from IPython.display import display\n",
    "\n",
    "%matplotlib nbagg"
   ]
  },
  {
   "cell_type": "code",
   "execution_count": null,
   "id": "veterinary-equipment",
   "metadata": {},
   "outputs": [],
   "source": [
    "fig, ax = plt.subplots(1, figsize=(10,4))\n",
    "plt.suptitle('Gràfica 5')\n",
    "\n",
    "def values(densitat, radi):\n",
    "    x = np.linspace(-0.04*radi, 0.96*radi, 1000)\n",
    "    Comp = 8*np.pi/3*6674*pow(10,-14)*densitat*pow(10,17)*pow(radi*1000,2)/pow(299792458,2)\n",
    "    if Comp < (8/9):\n",
    "        Massa = densitat*pow(10,17)*4/3*np.pi*pow(radi*1000,3)/(1.989E+30)\n",
    "        Ec = densitat*pow(10,17)*pow(299792458,2)\n",
    "    else:\n",
    "        Massa = 0\n",
    "        Ec = 0\n",
    "    if 1-Comp < 0:\n",
    "        Arrel = 0\n",
    "    else:\n",
    "        Arrel = np.sqrt(1-Comp)\n",
    "    return Massa, Comp, Ec, Arrel, x\n",
    "\n",
    "def update_plot(densitat, radi):\n",
    "    '''\n",
    "    Funcio linkada al plot, dona pressio en funcio del radi\n",
    "    x := Coordenada radial (en unitats de km)\n",
    "    y := Perfil de pressió (en Pa)\n",
    "    '''\n",
    "    global Massa, Comp\n",
    "    Massa, Comp, Ec, Arrel, x = values(densitat, radi)\n",
    "    ax.clear()\n",
    "    if any(1-Comp*pow(x,2)/radi**2) < 0 or any((1-Comp*pow(x,2)/radi**2)) == pow(3*Arrel,2) or Arrel == 0:\n",
    "        y = np.linspace(0,0, 1000)\n",
    "        print('Valors no compatibles amb el MGL')\n",
    "    else:\n",
    "        y = Ec * (np.sqrt(1-Comp*pow(x,2)/radi**2)-Arrel) / (3*Arrel-np.sqrt(1-Comp*pow(x,2)/radi**2))\n",
    "    units = 'P = {} \\nr = {}'\n",
    "    ax.plot(x, y, label=units.format(densitat, radi))\n",
    "    ax.legend(loc=1)\n",
    "    ax.set_xlabel(r\"$r$, variable radial a l'interior de l'estrella (km)\")\n",
    "    ax.set_ylabel(r\"$P$, Pressió (Pa)\")\n",
    "    ax.set_xlim(0, )\n",
    "    plt.grid(color = 'gray', linestyle = '--', linewidth = 0.5)\n",
    "    plt.show()\n",
    "    return Massa\n",
    "\n",
    "#densitat = widgets.FloatSlider(min=0, max=20, value=10, description='Densitat (en 10^{17} kg m^-3)')\n",
    "#radi = widgets.FloatSlider(min=0.01, max=20, value=10, description='Radi (en Km)')\n",
    "\n",
    "style = {'description_width': '175px'}\n",
    "layout = widgets.Layout(width='300px')\n",
    "\n",
    "densitat = widgets.BoundedFloatText(value=10, \n",
    "                                    min=0.1, \n",
    "                                    max=20, \n",
    "                                    step=0.1,\n",
    "                                    description='Densitat (en $10^{17}$ kg/m$^3$):', \n",
    "                                    disabled=False,\n",
    "                                    style=style,\n",
    "                                    layout=layout)\n",
    "radi = widgets.BoundedFloatText(value=10,\n",
    "                                min=0.1,\n",
    "                                max=20,\n",
    "                                step=0.1, \n",
    "                                description='Radi (en km):',\n",
    "                                disabled=False,\n",
    "                                style=style,\n",
    "                                layout=layout)\n",
    "\n",
    "widgets.interactive(update_plot, densitat=densitat, radi=radi)"
   ]
  },
  {
   "cell_type": "markdown",
   "id": "atmospheric-adventure",
   "metadata": {},
   "source": [
    "En aquesta quarta part del repte, utilitzareu els paràmetres del ***MGL*** amb els valors que escolliu per predir les propietats de les ***estrelles de neutrons***.\n",
    "\n",
    "* Les tasques es mostren a continuació en *cursiva*.  \n",
    "* Les respostes a les preguntes amb una (<font color='red'>Q</font>) al costat es demanen al qüestionari de l'activitat (el pots trobar a https://forms.office.com/r/rDDD2RRTik).\n",
    "\n",
    "#### Activitat 4a\n",
    "\n",
    "*Quina és la massa i el radi típics d’una estrella de neutrons segons aquest model?*\n",
    "\n",
    "Introduïu els vostres valors per a la densitat i el radi a continuació. El programa calcularà immediatament la massa de l'estrella de neutrons en masses solars, si el model ho permet. Aquests valors es mostraran a continuació."
   ]
  },
  {
   "cell_type": "code",
   "execution_count": null,
   "id": "identical-archive",
   "metadata": {},
   "outputs": [],
   "source": [
    "def display_massa(densitat, radi):\n",
    "    values(densitat,radi)\n",
    "    print('La massa de l\\'estrella de neutrons resultant és: {:.3g} Masses solars'.format(Massa))\n",
    "    \n",
    "widgets.interactive(display_massa, densitat=densitat, radi=radi)"
   ]
  },
  {
   "cell_type": "markdown",
   "id": "stylish-israeli",
   "metadata": {},
   "source": [
    "#### Activitat 4b\n",
    "Proveu d'incrementar el radi $1$ km a cada pas. En algun moment, el càlcul ja no funciona. Heu superat la massa màxima permesa de l'estrella de neutrons.\n",
    "\n",
    "#### Activitat 4c\n",
    "(<font color='red'>Q</font>) Quina és la compactesa d'una estrella de neutrons?\n",
    "\n",
    "*Calculeu la compactesa d’una estrella de neutrons, $C = \\frac{2 G M}{R c^2}$ Aquest nombre adimensional ens informa sobre la rellevància dels efectes de la relativitat general. Quan $C$ és petita, es poden ignorar els efectes relativistes. Quan $C$ és massa gran, en canvi, els efectes de la relativitat general són importants.*"
   ]
  },
  {
   "cell_type": "code",
   "execution_count": null,
   "id": "narrative-cycle",
   "metadata": {},
   "outputs": [],
   "source": [
    "def display_massa(densitat, radi):\n",
    "    values(densitat,radi)\n",
    "    print('La compacticitat de l\\'estrella de neutrons resultant és: {:.3g}(Adimensional)'.format(Comp))\n",
    "    \n",
    "widgets.interactive(display_massa, densitat=densitat, radi=radi)"
   ]
  },
  {
   "cell_type": "markdown",
   "id": "impossible-minnesota",
   "metadata": {},
   "source": [
    "#### Activitat 4d\n",
    "(<font color='red'>Q</font>) Mantenint la densitat fixa en $10^{18}$  kg/m$^3$, augmenteu el radi en increments petits i intenteu trobar el radi màxim permès per a aquest model. Anoteu la massa i la compactesa que obteniu. \n",
    "\n",
    "Ara canvieu la densitat a un altre valor de $5 \\times 10^{18}$ kg/m$^3$ i torneu a treballar amb diferents radis fins que trobeu la configuració inestable. Què podeu concloure dels valors que heu obtingut?"
   ]
  },
  {
   "cell_type": "code",
   "execution_count": null,
   "id": "balanced-weekend",
   "metadata": {},
   "outputs": [],
   "source": [
    "from IPython.display import HTML\n",
    "\n",
    "HTML('''<script>\n",
    "code_show=true; \n",
    "function code_toggle() {\n",
    " if (code_show){\n",
    " $('div.input').hide();\n",
    " } else {\n",
    " $('div.input').show();\n",
    " }\n",
    " code_show = !code_show\n",
    "} \n",
    "$( document ).ready(code_toggle);\n",
    "</script>\n",
    "<form action=\"javascript:code_toggle()\"><input type=\"submit\" value=\"Click here to toggle on/off the raw code.\"></form>''')"
   ]
  },
  {
   "cell_type": "code",
   "execution_count": null,
   "id": "grateful-purple",
   "metadata": {},
   "outputs": [],
   "source": []
  }
 ],
 "metadata": {
  "kernelspec": {
   "display_name": "Python 3 (ipykernel)",
   "language": "python",
   "name": "python3"
  },
  "language_info": {
   "codemirror_mode": {
    "name": "ipython",
    "version": 3
   },
   "file_extension": ".py",
   "mimetype": "text/x-python",
   "name": "python",
   "nbconvert_exporter": "python",
   "pygments_lexer": "ipython3",
   "version": "3.11.10"
  }
 },
 "nbformat": 4,
 "nbformat_minor": 5
}
