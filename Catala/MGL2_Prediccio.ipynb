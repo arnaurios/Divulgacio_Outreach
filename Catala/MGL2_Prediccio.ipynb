{
 "cells": [
  {
   "cell_type": "markdown",
   "id": "distinguished-league",
   "metadata": {},
   "source": [
    "## Activitat 2: Quin és l’isòtop d’oxigen més pesat?\n",
    "\n",
    "En aquesta activitat investigareu isòtops d'oxigen exòtics. Alguns són tan exòtics, que encara no els hem observat experimentalment! Utilitzareu la fórmula del ***MGL*** per predir quin és l’isòtop d’oxigen més pesat amb una energia d'enllaç positiva. Us demanarem que feu servir els valors que heu trobat pels paràmetres $a_V$ i $a_A$ a l'activitat anterior.\n",
    "\n",
    "***Gràfica 3***: mostra l'energia d'enllaç per nucleó $(E/A)$, mesurada experimentalment i calculada teòricament. És una figura semblant a la ***Gràfica 2*** mostrada anteriorment, però ampliada per poder veure els nombres de masses de $A=12$ fins a $A=200$. El MGL es pot fer servir per predir l'energia d'enllaç per nucleó d’isòtops d’oxigen amb masses molt més grans que les observades experimentalment. Al 2022, hem observat isòtops d'oxigen amb masses enre $A=11$ i $A=28$. \n",
    "\n",
    "Aquesta activitat també es pot adaptar per a altres elements de la Taula Periòdica. Per fer-ho només heu d'entrar el símbol de l'element que vulgueu estudiar a la capsa anomenada ***Element***. Us animeu a canviar l'element i fer-te noves preguntes més enllà d'aquesta activitat?\n",
    "\n",
    "Les dades utilitzades per crear la ***Gràfica 3*** es mostren al codi. Per inspeccionar el codi feu us del botó ***Click there to togle on/off the raw code*** que trobareu al final de la pàgina. "
   ]
  },
  {
   "cell_type": "code",
   "execution_count": null,
   "id": "sporting-battery",
   "metadata": {},
   "outputs": [],
   "source": [
    "import ipywidgets as widgets\n",
    "import matplotlib.pyplot as plt\n",
    "import numpy as np\n",
    "import pandas as pd\n",
    "from IPython.display import display\n",
    "\n",
    "%matplotlib nbagg"
   ]
  },
  {
   "cell_type": "code",
   "execution_count": null,
   "id": "familiar-waters",
   "metadata": {},
   "outputs": [],
   "source": [
    "def extract(x):\n",
    "    global extract_n\n",
    "    extract_n = df.loc[df['Element'] == x]\n",
    "    return\n",
    "\n",
    "\n",
    "\n",
    "def heaviest_isotop(df, y, element):\n",
    "    out = widgets.Output()\n",
    "    if not df.empty:\n",
    "        string = 'La predicció per l\\'isòtop de {} més pesat és un nucli amb A = '.format(element)\n",
    "        array = y[len(y)//2:]\n",
    "        absolut_array = np.abs(array-0)\n",
    "        closest_value = absolut_array.argmin()\n",
    "        closest_element = array[closest_value]\n",
    "        with out:\n",
    "            display('{}{} Nucleons'.format(string, A[closest_value+len(y)//2 ]))\n",
    "    grid[0,0] = out\n",
    "    return\n",
    "\n",
    "fig, ax = plt.subplots(nrows=1, figsize=(10,4))\n",
    "plt.suptitle('Gràfica 3')\n",
    "style = {'description_width': '200px'}\n",
    "layout = widgets.Layout(width='300px') \n",
    "\n",
    "def update_plot(element, av, aS, ac, aA, ap, checkbox):\n",
    "    global A, y, df\n",
    "    '''\n",
    "    this function is linked to the slider and\n",
    "    it replots the binding energy by nucleon when the slider are changed\n",
    "    '''\n",
    "    df = pd.read_fwf('https://raw.githubusercontent.com/arnaurios/Divulgacio_Outreach/main/mass_1.mas20.txt',    \n",
    "                 usecols=(2, 3, 4, 6, 11),\n",
    "                 names=['N', 'Z', 'A', 'Element', 'Experimental'],\n",
    "                 widths=(1,3,5,5,5,1,3,4,1,14,12,13,1,10,1,2,13,11,1,3,1,13,12,1),\n",
    "                 header=28, \n",
    "                 index_col=False)\n",
    "    df['Experimental'] = pd.to_numeric(df.Experimental.str.replace('#',''))\n",
    "    extract(element)\n",
    "    df = extract_n\n",
    "    df.reset_index(drop=True, inplace=True) \n",
    "    if not df.empty:\n",
    "        Z = df.at[0, 'Z']\n",
    "    else:\n",
    "        Z=0\n",
    "    A = np.linspace(1, 9 * Z, 9 * Z, dtype=int)\n",
    "    ax.clear()\n",
    "    plt.axhline(0, color='black')\n",
    "    y = (av*A-aS*pow(A,2/3)-ac*pow(Z,2)*pow(A,-1/3)-aA*pow(A-2*Z,2)/A + ((A % 2)==0) * ap/np.sqrt(A))*1000/A\n",
    "    extract_n.plot(x='A',y='Experimental', marker='s', linestyle = 'None', ax=ax)\n",
    "    ax.plot(A, y, label='Teòrica')\n",
    "    ax.legend(loc=1)\n",
    "    ax.set_xlabel('Nombre de massa (A)')\n",
    "    ax.set_ylabel('$Energia \\ d\\'enllaç \\ BE/A$ (keV)')\n",
    "    ax.set_xlim(0, )\n",
    "    ax.set_ylim(-2000, 10000)\n",
    "    ax.grid(color = 'gray', linestyle = '--', linewidth = 0.5)\n",
    "    plt.show()\n",
    "    heaviest_isotop(df, y, element)\n",
    "    return\n",
    "\n",
    "\n",
    "element = widgets.Text(\n",
    "          value='O',\n",
    "          placeholder='Nom de l\\'element',\n",
    "          description='Element:',\n",
    "          disabled=False\n",
    "          )\n",
    "\n",
    "av = widgets.BoundedFloatText(value=16, \n",
    "                              min=0, \n",
    "                              max=20, \n",
    "                              step=0.1, \n",
    "                              description='$a_V$, Volum:', \n",
    "                              disabled=False,\n",
    "                              style=style,\n",
    "                              layout=layout)\n",
    "\n",
    "aS = widgets.BoundedFloatText(value=18.3, \n",
    "                              min=0, \n",
    "                              max=20, \n",
    "                              step=0.1, \n",
    "                              description='$a_S$, Superfície:', \n",
    "                              disabled=True,\n",
    "                              style=style,\n",
    "                              layout=layout)\n",
    "\n",
    "ac = widgets.BoundedFloatText(value=0.714, \n",
    "                              min=0, \n",
    "                              max=20, \n",
    "                              step=0.1, \n",
    "                              description='$a_C$, Coulomb:', \n",
    "                              disabled=True,\n",
    "                              style=style,\n",
    "                              layout=layout)\n",
    "\n",
    "aA = widgets.BoundedFloatText(value=23, \n",
    "                              min=0, \n",
    "                              max=50, \n",
    "                              step=0.1, \n",
    "                              description='$a_A$, Asimetria:', \n",
    "                              disabled=False,\n",
    "                              style=style,\n",
    "                              layout=layout)\n",
    "\n",
    "ap = widgets.BoundedFloatText(value=12, \n",
    "                              min=0, \n",
    "                              max=20, \n",
    "                              step=0.1, \n",
    "                              description='$a_P$, Aparellament:', \n",
    "                              disabled=True,\n",
    "                              style=style,\n",
    "                              layout=layout)\n",
    "\n",
    "checkbox = widgets.Checkbox(\n",
    "                            value=False,\n",
    "                            description='Bloqueja / Desbloqueja Parametres',\n",
    "                            disabled=False,\n",
    "                            indent=False\n",
    "                            )\n",
    "\n",
    "link1 = widgets.link((aS, 'disabled'), (checkbox, 'value'))\n",
    "link2 = widgets.link((ac, 'disabled'), (checkbox, 'value'))\n",
    "link3 = widgets.link((ap, 'disabled'), (checkbox, 'value'))\n",
    "\n",
    "grid = widgets.GridspecLayout(1,1, height='auto')\n",
    "widgets.interactive(update_plot, element=element, av=av, aS=aS, ac=ac, aA=aA, ap=ap, checkbox=checkbox)"
   ]
  },
  {
   "cell_type": "markdown",
   "id": "charming-litigation",
   "metadata": {},
   "source": [
    "En aquesta segona part del repte, fem servir els paràmetres del model de l’***Activitat 1*** per predir les propietats dels isòtops d’oxigen encara no descoberts.\n",
    "\n",
    "* Les tasques es mostren a continuació en *cursiva*.  \n",
    "* Les respostes a les preguntes amb una (<font color='red'>Q</font>) al costat es demanen al qüestionari de l'activitat (el pots trobar a https://forms.office.com/r/rDDD2RRTik).\n",
    "\n",
    "#### Activitat 2a\n",
    "\n",
    "(<font color='red'>Q</font>) Quin és l’isòtop d’oxigen més pesat amb una energia d'enllaç positiva?\n",
    "\n",
    "*Introduïu els valors dels termes de volum i asimetria. El programa calcularà immediatament l’isòtop d’oxigen més pesat i us en  proporcionarà el valor.*"
   ]
  },
  {
   "cell_type": "code",
   "execution_count": null,
   "id": "further-tribune",
   "metadata": {},
   "outputs": [],
   "source": [
    "grid"
   ]
  },
  {
   "cell_type": "markdown",
   "id": "cheap-indiana",
   "metadata": {},
   "source": [
    "El valor proporcionat aquí és aquell en que l'energia d'enllaç del MGL de la ***Gràfica 3*** intersecta amb l'eix de les abcisas. Per tal que un nucli pugui existir i no decaigui espontàniament en les partícules que el conformen, ha de tenir una energia d'enllaç $E/A$ positiva!\n",
    "\n",
    "#### Activitat 2b\n",
    "\n",
    "Avaluació de la incertesa en el terme d’asimetria.\n",
    "\n",
    "*Si suposem que, per a la constant de terme d’asimetria $a_A$, tots els valors de l'interval entre $20$ i $25$ MeV són possibles (mantenint el terme de volum $a_V$ amb el valor que heu trobat anteriorment), busqueu el rang de prediccions per a l’isòtop d’oxigen més pesat amb una energia d’enllaç positiva. Introduïu les vostres respostes als requadres següents i discutiu el significat d'aquest rang.*"
   ]
  },
  {
   "cell_type": "code",
   "execution_count": null,
   "id": "surgical-frank",
   "metadata": {},
   "outputs": [],
   "source": [
    "box_1 = widgets.Text(\n",
    "                     value='',\n",
    "                     description='El rang (en nucleons) de l\\'isotop més pesat va de:',\n",
    "                     disabled=False,\n",
    "                     style={'description_width': '300px'},\n",
    "                     layout=widgets.Layout(width='350px') \n",
    "                     )\n",
    "box_2 = widgets.Text(\n",
    "                     value='',\n",
    "                     description='fins a',\n",
    "                     disabled=False,\n",
    "                     style={'description_width': '50px'},\n",
    "                     layout=widgets.Layout(width='100px') \n",
    "                     )\n",
    "display(av,aA,widgets.HBox([box_1, box_2]))"
   ]
  },
  {
   "cell_type": "markdown",
   "id": "considered-gnome",
   "metadata": {},
   "source": [
    "#### Activitat 2c\n",
    "\n",
    "Avaluació de la incertesa en el terme del volum.\n",
    "\n",
    "*Si suposem que, per a la constant terme de volum $a_V$, tos els valors de l'interval entre $15$ i $17$ MeV són possibles (mantenint el terme d'asimetria amb el valor que heu trobat anteriorment), busqueu el rang de prediccions per a l’isòtop d’oxigen més pesat amb una energia d'enllaç positiva. Introduïu les vostres respostes als requadres següents i discutiu el significat d'aquest rang.*"
   ]
  },
  {
   "cell_type": "code",
   "execution_count": null,
   "id": "electrical-memory",
   "metadata": {},
   "outputs": [],
   "source": [
    "box_1 = widgets.Text(\n",
    "                     value='',\n",
    "                     description='El rang (en nucleons) de l\\'isotop més pesat va de:',\n",
    "                     disabled=False,\n",
    "                     style={'description_width': '300px'},\n",
    "                     layout=widgets.Layout(width='350px') \n",
    "                     )\n",
    "box_2 = widgets.Text(\n",
    "                     value='',\n",
    "                     description='fins a',\n",
    "                     disabled=False,\n",
    "                     style={'description_width': '50px'},\n",
    "                     layout=widgets.Layout(width='100px') \n",
    "                     )\n",
    "display(av,aA,widgets.HBox([box_1, box_2]))"
   ]
  },
  {
   "cell_type": "markdown",
   "id": "sustained-housing",
   "metadata": {},
   "source": [
    "##### Bravo per haver completar aquesta activitat! Ara aneu a la següent activitat [Activitat 3, Massa Mínima d'una Estrella de Neutrons](./MGL3_Estrella_Neutrons_Massa_Minima.ipynb)."
   ]
  },
  {
   "cell_type": "code",
   "execution_count": null,
   "id": "collect-variance",
   "metadata": {},
   "outputs": [],
   "source": [
    "from IPython.display import HTML\n",
    "\n",
    "HTML('''<script>\n",
    "code_show=true; \n",
    "function code_toggle() {\n",
    " if (code_show){\n",
    " $('div.input').hide();\n",
    " } else {\n",
    " $('div.input').show();\n",
    " }\n",
    " code_show = !code_show\n",
    "} \n",
    "$( document ).ready(code_toggle);\n",
    "</script>\n",
    "<form action=\"javascript:code_toggle()\"><input type=\"submit\" value=\"Click here to toggle on/off the raw code.\"></form>''')"
   ]
  },
  {
   "cell_type": "code",
   "execution_count": null,
   "id": "enormous-terrace",
   "metadata": {},
   "outputs": [],
   "source": []
  }
 ],
 "metadata": {
  "kernelspec": {
   "display_name": "Python 3 (ipykernel)",
   "language": "python",
   "name": "python3"
  },
  "language_info": {
   "codemirror_mode": {
    "name": "ipython",
    "version": 3
   },
   "file_extension": ".py",
   "mimetype": "text/x-python",
   "name": "python",
   "nbconvert_exporter": "python",
   "pygments_lexer": "ipython3",
   "version": "3.9.14"
  },
  "widgets": {
   "application/vnd.jupyter.widget-state+json": {
    "state": {
     "052c51d251894701964a848d59a147d6": {
      "model_module": "@jupyter-widgets/controls",
      "model_module_version": "1.5.0",
      "model_name": "HBoxModel",
      "state": {
       "children": [
        "IPY_MODEL_99d99a7469e14755ab975265516e49ab",
        "IPY_MODEL_daa73485974344cf8cddae0474b74b1e"
       ],
       "layout": "IPY_MODEL_f146c9cbbfe943aaab33f748ec4a380b"
      }
     },
     "0a5a01fe0da04e4f9e623d50323373b7": {
      "model_module": "@jupyter-widgets/controls",
      "model_module_version": "1.5.0",
      "model_name": "TextModel",
      "state": {
       "description": "fins a",
       "layout": "IPY_MODEL_d71cfef46eca4ce093ee8d9bd7578cc3",
       "style": "IPY_MODEL_efa976f964fd4209ade08663c57b609b"
      }
     },
     "16aa750fd5994c02860059bd030bcf1b": {
      "model_module": "@jupyter-widgets/controls",
      "model_module_version": "1.5.0",
      "model_name": "TextModel",
      "state": {
       "description": "Element:",
       "layout": "IPY_MODEL_7b8780d61d794bc083cb28b33e08b65d",
       "placeholder": "Nom de l'element",
       "style": "IPY_MODEL_baf74ca754034c8aaa6526c985c38ded",
       "value": "Sn"
      }
     },
     "1d25eabc6a3d43cdb244226132002d34": {
      "model_module": "@jupyter-widgets/base",
      "model_module_version": "1.2.0",
      "model_name": "LayoutModel",
      "state": {
       "grid_area": "widget001"
      }
     },
     "33b730df1fad488bafe4fbd850d74a99": {
      "model_module": "@jupyter-widgets/base",
      "model_module_version": "1.2.0",
      "model_name": "LayoutModel",
      "state": {
       "width": "350px"
      }
     },
     "389339a9fe4b43dfb74600c32e43556a": {
      "model_module": "@jupyter-widgets/base",
      "model_module_version": "1.2.0",
      "model_name": "LayoutModel",
      "state": {}
     },
     "4217be0832ba4f918294008e0e3a552d": {
      "model_module": "@jupyter-widgets/base",
      "model_module_version": "1.2.0",
      "model_name": "LayoutModel",
      "state": {
       "width": "300px"
      }
     },
     "43d736dc962c4a4c8372092b9c5e4f2a": {
      "model_module": "@jupyter-widgets/base",
      "model_module_version": "1.2.0",
      "model_name": "LayoutModel",
      "state": {}
     },
     "468e223e8f254ebe8c2c15d9fce1f0e6": {
      "model_module": "@jupyter-widgets/controls",
      "model_module_version": "1.5.0",
      "model_name": "DescriptionStyleModel",
      "state": {
       "description_width": "50px"
      }
     },
     "4fee8895bec945bdac3107b513db66eb": {
      "model_module": "@jupyter-widgets/controls",
      "model_module_version": "1.5.0",
      "model_name": "BoundedFloatTextModel",
      "state": {
       "description": "Coulomb:",
       "disabled": true,
       "layout": "IPY_MODEL_4217be0832ba4f918294008e0e3a552d",
       "max": 20,
       "style": "IPY_MODEL_d66a1c1b8d7b42fe97474fe783d25cbe",
       "value": 0.714
      }
     },
     "57fc59c5cd89442c911918668e16d209": {
      "model_module": "@jupyter-widgets/output",
      "model_module_version": "1.0.0",
      "model_name": "OutputModel",
      "state": {
       "layout": "IPY_MODEL_e2e8772ff63d435191473af7f42beb8c",
       "outputs": [
        {
         "data": {
          "text/plain": "\"La predicció per l'isòtop de P més pesat és un nucli amb A = 106 Nucleons\""
         },
         "metadata": {},
         "output_type": "display_data"
        }
       ]
      }
     },
     "5a27b45e26d643508ac4b3f53cdd7b40": {
      "model_module": "@jupyter-widgets/output",
      "model_module_version": "1.0.0",
      "model_name": "OutputModel",
      "state": {
       "layout": "IPY_MODEL_ae52452bd26d4f0387e7b6e877c113e9",
       "outputs": [
        {
         "data": {
          "text/plain": "\"La predicció per l'isòtop de Sn més pesat és un nucli amb A = 399 Nucleons\""
         },
         "metadata": {},
         "output_type": "display_data"
        }
       ]
      }
     },
     "7b8780d61d794bc083cb28b33e08b65d": {
      "model_module": "@jupyter-widgets/base",
      "model_module_version": "1.2.0",
      "model_name": "LayoutModel",
      "state": {}
     },
     "803f7ece115f43e292d85bceb57348e7": {
      "model_module": "@jupyter-widgets/controls",
      "model_module_version": "1.5.0",
      "model_name": "DescriptionStyleModel",
      "state": {
       "description_width": "200px"
      }
     },
     "85d6db6bb22341c1859060b45a3f9c7e": {
      "model_module": "@jupyter-widgets/base",
      "model_module_version": "1.2.0",
      "model_name": "LayoutModel",
      "state": {}
     },
     "8fad1295d6104f0a8b6aa9cdfcfbc7d1": {
      "model_module": "@jupyter-widgets/controls",
      "model_module_version": "1.5.0",
      "model_name": "BoundedFloatTextModel",
      "state": {
       "description": "Superficie:",
       "disabled": true,
       "layout": "IPY_MODEL_4217be0832ba4f918294008e0e3a552d",
       "max": 20,
       "style": "IPY_MODEL_ec7a2f37bab741228669789fd19e7973",
       "value": 18.3
      }
     },
     "92613c6168bc401f8e47251212ffd6a8": {
      "model_module": "@jupyter-widgets/controls",
      "model_module_version": "1.5.0",
      "model_name": "GridBoxModel",
      "state": {
       "children": [
        "IPY_MODEL_5a27b45e26d643508ac4b3f53cdd7b40"
       ],
       "layout": "IPY_MODEL_b0f78131f2e74f7f837b0b706b62e7e9"
      }
     },
     "99d99a7469e14755ab975265516e49ab": {
      "model_module": "@jupyter-widgets/controls",
      "model_module_version": "1.5.0",
      "model_name": "TextModel",
      "state": {
       "description": "El rang (en nucleons) de l'isotop més pesat va de:",
       "layout": "IPY_MODEL_33b730df1fad488bafe4fbd850d74a99",
       "style": "IPY_MODEL_dcd32160b136440d95956e6c74565878"
      }
     },
     "9ba6b9349ec34ed1bd71889091786dfc": {
      "model_module": "@jupyter-widgets/output",
      "model_module_version": "1.0.0",
      "model_name": "OutputModel",
      "state": {
       "layout": "IPY_MODEL_c8ad24315d104fa8a9f10e6c38ff34f4",
       "outputs": [
        {
         "data": {
          "text/plain": "\"La predicció per l'isòtop de S més pesat és un nucli amb A = 114 Nucleons\""
         },
         "metadata": {},
         "output_type": "display_data"
        }
       ]
      }
     },
     "ae52452bd26d4f0387e7b6e877c113e9": {
      "model_module": "@jupyter-widgets/base",
      "model_module_version": "1.2.0",
      "model_name": "LayoutModel",
      "state": {
       "grid_area": "widget005"
      }
     },
     "b0f78131f2e74f7f837b0b706b62e7e9": {
      "model_module": "@jupyter-widgets/base",
      "model_module_version": "1.2.0",
      "model_name": "LayoutModel",
      "state": {
       "grid_template_areas": "\"widget005\"",
       "grid_template_columns": "repeat(1, 1fr)",
       "grid_template_rows": "repeat(1, 1fr)",
       "height": "auto"
      }
     },
     "b6f0687f82dc487894f9fc282a71bbb1": {
      "model_module": "@jupyter-widgets/controls",
      "model_module_version": "1.5.0",
      "model_name": "VBoxModel",
      "state": {
       "_dom_classes": [
        "widget-interact"
       ],
       "children": [
        "IPY_MODEL_16aa750fd5994c02860059bd030bcf1b",
        "IPY_MODEL_f2898d9d7cfc43239af52a0d8737c0f1",
        "IPY_MODEL_8fad1295d6104f0a8b6aa9cdfcfbc7d1",
        "IPY_MODEL_4fee8895bec945bdac3107b513db66eb",
        "IPY_MODEL_f6e725e53a9d40feb6c74227b39ff8d0",
        "IPY_MODEL_b8a9e3ce2e8443bfb79c7db12d5fffbe",
        "IPY_MODEL_cad8d3a0ade74410b84c3e8df74a9324",
        "IPY_MODEL_e2bfb897b764452b9accfbd16f4053af"
       ],
       "layout": "IPY_MODEL_85d6db6bb22341c1859060b45a3f9c7e"
      }
     },
     "b82362636dff4c5c9e5a4dd21773514d": {
      "model_module": "@jupyter-widgets/output",
      "model_module_version": "1.0.0",
      "model_name": "OutputModel",
      "state": {
       "layout": "IPY_MODEL_fef3523773504312b26cde8df6fc8b96",
       "outputs": [
        {
         "data": {
          "text/plain": "\"La predicció per l'isòtop de Pb més pesat és un nucli amb A = 667 Nucleons\""
         },
         "metadata": {},
         "output_type": "display_data"
        }
       ]
      }
     },
     "b8a9e3ce2e8443bfb79c7db12d5fffbe": {
      "model_module": "@jupyter-widgets/controls",
      "model_module_version": "1.5.0",
      "model_name": "BoundedFloatTextModel",
      "state": {
       "description": "Emparellament:",
       "disabled": true,
       "layout": "IPY_MODEL_4217be0832ba4f918294008e0e3a552d",
       "max": 20,
       "style": "IPY_MODEL_803f7ece115f43e292d85bceb57348e7",
       "value": 12
      }
     },
     "baf74ca754034c8aaa6526c985c38ded": {
      "model_module": "@jupyter-widgets/controls",
      "model_module_version": "1.5.0",
      "model_name": "DescriptionStyleModel",
      "state": {
       "description_width": ""
      }
     },
     "bcdffd90d3f240c190871c9b05ba6896": {
      "model_module": "@jupyter-widgets/controls",
      "model_module_version": "1.5.0",
      "model_name": "DescriptionStyleModel",
      "state": {
       "description_width": "300px"
      }
     },
     "c8ad24315d104fa8a9f10e6c38ff34f4": {
      "model_module": "@jupyter-widgets/base",
      "model_module_version": "1.2.0",
      "model_name": "LayoutModel",
      "state": {
       "grid_area": "widget004"
      }
     },
     "cad8d3a0ade74410b84c3e8df74a9324": {
      "model_module": "@jupyter-widgets/controls",
      "model_module_version": "1.5.0",
      "model_name": "CheckboxModel",
      "state": {
       "description": "Bloqueja / Desbloqueja Parametres",
       "disabled": false,
       "indent": false,
       "layout": "IPY_MODEL_389339a9fe4b43dfb74600c32e43556a",
       "style": "IPY_MODEL_f3624c8b1a324636a76470dd34d808de",
       "value": true
      }
     },
     "d66a1c1b8d7b42fe97474fe783d25cbe": {
      "model_module": "@jupyter-widgets/controls",
      "model_module_version": "1.5.0",
      "model_name": "DescriptionStyleModel",
      "state": {
       "description_width": "200px"
      }
     },
     "d71cfef46eca4ce093ee8d9bd7578cc3": {
      "model_module": "@jupyter-widgets/base",
      "model_module_version": "1.2.0",
      "model_name": "LayoutModel",
      "state": {
       "width": "100px"
      }
     },
     "d7d9754aa3bf481f9b327d621757292c": {
      "model_module": "@jupyter-widgets/base",
      "model_module_version": "1.2.0",
      "model_name": "LayoutModel",
      "state": {
       "width": "350px"
      }
     },
     "daa73485974344cf8cddae0474b74b1e": {
      "model_module": "@jupyter-widgets/controls",
      "model_module_version": "1.5.0",
      "model_name": "TextModel",
      "state": {
       "description": "fins a",
       "layout": "IPY_MODEL_f4a717e830fb4ec3b466d89c8c8f8243",
       "style": "IPY_MODEL_468e223e8f254ebe8c2c15d9fce1f0e6"
      }
     },
     "dcd32160b136440d95956e6c74565878": {
      "model_module": "@jupyter-widgets/controls",
      "model_module_version": "1.5.0",
      "model_name": "DescriptionStyleModel",
      "state": {
       "description_width": "300px"
      }
     },
     "dd9c634bc5974c8783c97533bc66aae5": {
      "model_module": "@jupyter-widgets/controls",
      "model_module_version": "1.5.0",
      "model_name": "HBoxModel",
      "state": {
       "children": [
        "IPY_MODEL_e5d9feb1aa9246e3b7309100f9bc81b0",
        "IPY_MODEL_0a5a01fe0da04e4f9e623d50323373b7"
       ],
       "layout": "IPY_MODEL_f358b86642164ce49629fe55181f04d5"
      }
     },
     "df722d7527664d4bb6f9e694b14a687d": {
      "model_module": "@jupyter-widgets/controls",
      "model_module_version": "1.5.0",
      "model_name": "DescriptionStyleModel",
      "state": {
       "description_width": "200px"
      }
     },
     "e2bfb897b764452b9accfbd16f4053af": {
      "model_module": "@jupyter-widgets/output",
      "model_module_version": "1.0.0",
      "model_name": "OutputModel",
      "state": {
       "layout": "IPY_MODEL_43d736dc962c4a4c8372092b9c5e4f2a",
       "outputs": [
        {
         "data": {
          "application/javascript": "/* Put everything inside the global mpl namespace */\n/* global mpl */\nwindow.mpl = {};\n\nmpl.get_websocket_type = function () {\n    if (typeof WebSocket !== 'undefined') {\n        return WebSocket;\n    } else if (typeof MozWebSocket !== 'undefined') {\n        return MozWebSocket;\n    } else {\n        alert(\n            'Your browser does not have WebSocket support. ' +\n                'Please try Chrome, Safari or Firefox ≥ 6. ' +\n                'Firefox 4 and 5 are also supported but you ' +\n                'have to enable WebSockets in about:config.'\n        );\n    }\n};\n\nmpl.figure = function (figure_id, websocket, ondownload, parent_element) {\n    this.id = figure_id;\n\n    this.ws = websocket;\n\n    this.supports_binary = this.ws.binaryType !== undefined;\n\n    if (!this.supports_binary) {\n        var warnings = document.getElementById('mpl-warnings');\n        if (warnings) {\n            warnings.style.display = 'block';\n            warnings.textContent =\n                'This browser does not support binary websocket messages. ' +\n                'Performance may be slow.';\n        }\n    }\n\n    this.imageObj = new Image();\n\n    this.context = undefined;\n    this.message = undefined;\n    this.canvas = undefined;\n    this.rubberband_canvas = undefined;\n    this.rubberband_context = undefined;\n    this.format_dropdown = undefined;\n\n    this.image_mode = 'full';\n\n    this.root = document.createElement('div');\n    this.root.setAttribute('style', 'display: inline-block');\n    this._root_extra_style(this.root);\n\n    parent_element.appendChild(this.root);\n\n    this._init_header(this);\n    this._init_canvas(this);\n    this._init_toolbar(this);\n\n    var fig = this;\n\n    this.waiting = false;\n\n    this.ws.onopen = function () {\n        fig.send_message('supports_binary', { value: fig.supports_binary });\n        fig.send_message('send_image_mode', {});\n        if (fig.ratio !== 1) {\n            fig.send_message('set_device_pixel_ratio', {\n                device_pixel_ratio: fig.ratio,\n            });\n        }\n        fig.send_message('refresh', {});\n    };\n\n    this.imageObj.onload = function () {\n        if (fig.image_mode === 'full') {\n            // Full images could contain transparency (where diff images\n            // almost always do), so we need to clear the canvas so that\n            // there is no ghosting.\n            fig.context.clearRect(0, 0, fig.canvas.width, fig.canvas.height);\n        }\n        fig.context.drawImage(fig.imageObj, 0, 0);\n    };\n\n    this.imageObj.onunload = function () {\n        fig.ws.close();\n    };\n\n    this.ws.onmessage = this._make_on_message_function(this);\n\n    this.ondownload = ondownload;\n};\n\nmpl.figure.prototype._init_header = function () {\n    var titlebar = document.createElement('div');\n    titlebar.classList =\n        'ui-dialog-titlebar ui-widget-header ui-corner-all ui-helper-clearfix';\n    var titletext = document.createElement('div');\n    titletext.classList = 'ui-dialog-title';\n    titletext.setAttribute(\n        'style',\n        'width: 100%; text-align: center; padding: 3px;'\n    );\n    titlebar.appendChild(titletext);\n    this.root.appendChild(titlebar);\n    this.header = titletext;\n};\n\nmpl.figure.prototype._canvas_extra_style = function (_canvas_div) {};\n\nmpl.figure.prototype._root_extra_style = function (_canvas_div) {};\n\nmpl.figure.prototype._init_canvas = function () {\n    var fig = this;\n\n    var canvas_div = (this.canvas_div = document.createElement('div'));\n    canvas_div.setAttribute(\n        'style',\n        'border: 1px solid #ddd;' +\n            'box-sizing: content-box;' +\n            'clear: both;' +\n            'min-height: 1px;' +\n            'min-width: 1px;' +\n            'outline: 0;' +\n            'overflow: hidden;' +\n            'position: relative;' +\n            'resize: both;'\n    );\n\n    function on_keyboard_event_closure(name) {\n        return function (event) {\n            return fig.key_event(event, name);\n        };\n    }\n\n    canvas_div.addEventListener(\n        'keydown',\n        on_keyboard_event_closure('key_press')\n    );\n    canvas_div.addEventListener(\n        'keyup',\n        on_keyboard_event_closure('key_release')\n    );\n\n    this._canvas_extra_style(canvas_div);\n    this.root.appendChild(canvas_div);\n\n    var canvas = (this.canvas = document.createElement('canvas'));\n    canvas.classList.add('mpl-canvas');\n    canvas.setAttribute('style', 'box-sizing: content-box;');\n\n    this.context = canvas.getContext('2d');\n\n    var backingStore =\n        this.context.backingStorePixelRatio ||\n        this.context.webkitBackingStorePixelRatio ||\n        this.context.mozBackingStorePixelRatio ||\n        this.context.msBackingStorePixelRatio ||\n        this.context.oBackingStorePixelRatio ||\n        this.context.backingStorePixelRatio ||\n        1;\n\n    this.ratio = (window.devicePixelRatio || 1) / backingStore;\n\n    var rubberband_canvas = (this.rubberband_canvas = document.createElement(\n        'canvas'\n    ));\n    rubberband_canvas.setAttribute(\n        'style',\n        'box-sizing: content-box; position: absolute; left: 0; top: 0; z-index: 1;'\n    );\n\n    // Apply a ponyfill if ResizeObserver is not implemented by browser.\n    if (this.ResizeObserver === undefined) {\n        if (window.ResizeObserver !== undefined) {\n            this.ResizeObserver = window.ResizeObserver;\n        } else {\n            var obs = _JSXTOOLS_RESIZE_OBSERVER({});\n            this.ResizeObserver = obs.ResizeObserver;\n        }\n    }\n\n    this.resizeObserverInstance = new this.ResizeObserver(function (entries) {\n        var nentries = entries.length;\n        for (var i = 0; i < nentries; i++) {\n            var entry = entries[i];\n            var width, height;\n            if (entry.contentBoxSize) {\n                if (entry.contentBoxSize instanceof Array) {\n                    // Chrome 84 implements new version of spec.\n                    width = entry.contentBoxSize[0].inlineSize;\n                    height = entry.contentBoxSize[0].blockSize;\n                } else {\n                    // Firefox implements old version of spec.\n                    width = entry.contentBoxSize.inlineSize;\n                    height = entry.contentBoxSize.blockSize;\n                }\n            } else {\n                // Chrome <84 implements even older version of spec.\n                width = entry.contentRect.width;\n                height = entry.contentRect.height;\n            }\n\n            // Keep the size of the canvas and rubber band canvas in sync with\n            // the canvas container.\n            if (entry.devicePixelContentBoxSize) {\n                // Chrome 84 implements new version of spec.\n                canvas.setAttribute(\n                    'width',\n                    entry.devicePixelContentBoxSize[0].inlineSize\n                );\n                canvas.setAttribute(\n                    'height',\n                    entry.devicePixelContentBoxSize[0].blockSize\n                );\n            } else {\n                canvas.setAttribute('width', width * fig.ratio);\n                canvas.setAttribute('height', height * fig.ratio);\n            }\n            canvas.setAttribute(\n                'style',\n                'width: ' + width + 'px; height: ' + height + 'px;'\n            );\n\n            rubberband_canvas.setAttribute('width', width);\n            rubberband_canvas.setAttribute('height', height);\n\n            // And update the size in Python. We ignore the initial 0/0 size\n            // that occurs as the element is placed into the DOM, which should\n            // otherwise not happen due to the minimum size styling.\n            if (fig.ws.readyState == 1 && width != 0 && height != 0) {\n                fig.request_resize(width, height);\n            }\n        }\n    });\n    this.resizeObserverInstance.observe(canvas_div);\n\n    function on_mouse_event_closure(name) {\n        return function (event) {\n            return fig.mouse_event(event, name);\n        };\n    }\n\n    rubberband_canvas.addEventListener(\n        'mousedown',\n        on_mouse_event_closure('button_press')\n    );\n    rubberband_canvas.addEventListener(\n        'mouseup',\n        on_mouse_event_closure('button_release')\n    );\n    rubberband_canvas.addEventListener(\n        'dblclick',\n        on_mouse_event_closure('dblclick')\n    );\n    // Throttle sequential mouse events to 1 every 20ms.\n    rubberband_canvas.addEventListener(\n        'mousemove',\n        on_mouse_event_closure('motion_notify')\n    );\n\n    rubberband_canvas.addEventListener(\n        'mouseenter',\n        on_mouse_event_closure('figure_enter')\n    );\n    rubberband_canvas.addEventListener(\n        'mouseleave',\n        on_mouse_event_closure('figure_leave')\n    );\n\n    canvas_div.addEventListener('wheel', function (event) {\n        if (event.deltaY < 0) {\n            event.step = 1;\n        } else {\n            event.step = -1;\n        }\n        on_mouse_event_closure('scroll')(event);\n    });\n\n    canvas_div.appendChild(canvas);\n    canvas_div.appendChild(rubberband_canvas);\n\n    this.rubberband_context = rubberband_canvas.getContext('2d');\n    this.rubberband_context.strokeStyle = '#000000';\n\n    this._resize_canvas = function (width, height, forward) {\n        if (forward) {\n            canvas_div.style.width = width + 'px';\n            canvas_div.style.height = height + 'px';\n        }\n    };\n\n    // Disable right mouse context menu.\n    this.rubberband_canvas.addEventListener('contextmenu', function (_e) {\n        event.preventDefault();\n        return false;\n    });\n\n    function set_focus() {\n        canvas.focus();\n        canvas_div.focus();\n    }\n\n    window.setTimeout(set_focus, 100);\n};\n\nmpl.figure.prototype._init_toolbar = function () {\n    var fig = this;\n\n    var toolbar = document.createElement('div');\n    toolbar.classList = 'mpl-toolbar';\n    this.root.appendChild(toolbar);\n\n    function on_click_closure(name) {\n        return function (_event) {\n            return fig.toolbar_button_onclick(name);\n        };\n    }\n\n    function on_mouseover_closure(tooltip) {\n        return function (event) {\n            if (!event.currentTarget.disabled) {\n                return fig.toolbar_button_onmouseover(tooltip);\n            }\n        };\n    }\n\n    fig.buttons = {};\n    var buttonGroup = document.createElement('div');\n    buttonGroup.classList = 'mpl-button-group';\n    for (var toolbar_ind in mpl.toolbar_items) {\n        var name = mpl.toolbar_items[toolbar_ind][0];\n        var tooltip = mpl.toolbar_items[toolbar_ind][1];\n        var image = mpl.toolbar_items[toolbar_ind][2];\n        var method_name = mpl.toolbar_items[toolbar_ind][3];\n\n        if (!name) {\n            /* Instead of a spacer, we start a new button group. */\n            if (buttonGroup.hasChildNodes()) {\n                toolbar.appendChild(buttonGroup);\n            }\n            buttonGroup = document.createElement('div');\n            buttonGroup.classList = 'mpl-button-group';\n            continue;\n        }\n\n        var button = (fig.buttons[name] = document.createElement('button'));\n        button.classList = 'mpl-widget';\n        button.setAttribute('role', 'button');\n        button.setAttribute('aria-disabled', 'false');\n        button.addEventListener('click', on_click_closure(method_name));\n        button.addEventListener('mouseover', on_mouseover_closure(tooltip));\n\n        var icon_img = document.createElement('img');\n        icon_img.src = '_images/' + image + '.png';\n        icon_img.srcset = '_images/' + image + '_large.png 2x';\n        icon_img.alt = tooltip;\n        button.appendChild(icon_img);\n\n        buttonGroup.appendChild(button);\n    }\n\n    if (buttonGroup.hasChildNodes()) {\n        toolbar.appendChild(buttonGroup);\n    }\n\n    var fmt_picker = document.createElement('select');\n    fmt_picker.classList = 'mpl-widget';\n    toolbar.appendChild(fmt_picker);\n    this.format_dropdown = fmt_picker;\n\n    for (var ind in mpl.extensions) {\n        var fmt = mpl.extensions[ind];\n        var option = document.createElement('option');\n        option.selected = fmt === mpl.default_extension;\n        option.innerHTML = fmt;\n        fmt_picker.appendChild(option);\n    }\n\n    var status_bar = document.createElement('span');\n    status_bar.classList = 'mpl-message';\n    toolbar.appendChild(status_bar);\n    this.message = status_bar;\n};\n\nmpl.figure.prototype.request_resize = function (x_pixels, y_pixels) {\n    // Request matplotlib to resize the figure. Matplotlib will then trigger a resize in the client,\n    // which will in turn request a refresh of the image.\n    this.send_message('resize', { width: x_pixels, height: y_pixels });\n};\n\nmpl.figure.prototype.send_message = function (type, properties) {\n    properties['type'] = type;\n    properties['figure_id'] = this.id;\n    this.ws.send(JSON.stringify(properties));\n};\n\nmpl.figure.prototype.send_draw_message = function () {\n    if (!this.waiting) {\n        this.waiting = true;\n        this.ws.send(JSON.stringify({ type: 'draw', figure_id: this.id }));\n    }\n};\n\nmpl.figure.prototype.handle_save = function (fig, _msg) {\n    var format_dropdown = fig.format_dropdown;\n    var format = format_dropdown.options[format_dropdown.selectedIndex].value;\n    fig.ondownload(fig, format);\n};\n\nmpl.figure.prototype.handle_resize = function (fig, msg) {\n    var size = msg['size'];\n    if (size[0] !== fig.canvas.width || size[1] !== fig.canvas.height) {\n        fig._resize_canvas(size[0], size[1], msg['forward']);\n        fig.send_message('refresh', {});\n    }\n};\n\nmpl.figure.prototype.handle_rubberband = function (fig, msg) {\n    var x0 = msg['x0'] / fig.ratio;\n    var y0 = (fig.canvas.height - msg['y0']) / fig.ratio;\n    var x1 = msg['x1'] / fig.ratio;\n    var y1 = (fig.canvas.height - msg['y1']) / fig.ratio;\n    x0 = Math.floor(x0) + 0.5;\n    y0 = Math.floor(y0) + 0.5;\n    x1 = Math.floor(x1) + 0.5;\n    y1 = Math.floor(y1) + 0.5;\n    var min_x = Math.min(x0, x1);\n    var min_y = Math.min(y0, y1);\n    var width = Math.abs(x1 - x0);\n    var height = Math.abs(y1 - y0);\n\n    fig.rubberband_context.clearRect(\n        0,\n        0,\n        fig.canvas.width / fig.ratio,\n        fig.canvas.height / fig.ratio\n    );\n\n    fig.rubberband_context.strokeRect(min_x, min_y, width, height);\n};\n\nmpl.figure.prototype.handle_figure_label = function (fig, msg) {\n    // Updates the figure title.\n    fig.header.textContent = msg['label'];\n};\n\nmpl.figure.prototype.handle_cursor = function (fig, msg) {\n    fig.rubberband_canvas.style.cursor = msg['cursor'];\n};\n\nmpl.figure.prototype.handle_message = function (fig, msg) {\n    fig.message.textContent = msg['message'];\n};\n\nmpl.figure.prototype.handle_draw = function (fig, _msg) {\n    // Request the server to send over a new figure.\n    fig.send_draw_message();\n};\n\nmpl.figure.prototype.handle_image_mode = function (fig, msg) {\n    fig.image_mode = msg['mode'];\n};\n\nmpl.figure.prototype.handle_history_buttons = function (fig, msg) {\n    for (var key in msg) {\n        if (!(key in fig.buttons)) {\n            continue;\n        }\n        fig.buttons[key].disabled = !msg[key];\n        fig.buttons[key].setAttribute('aria-disabled', !msg[key]);\n    }\n};\n\nmpl.figure.prototype.handle_navigate_mode = function (fig, msg) {\n    if (msg['mode'] === 'PAN') {\n        fig.buttons['Pan'].classList.add('active');\n        fig.buttons['Zoom'].classList.remove('active');\n    } else if (msg['mode'] === 'ZOOM') {\n        fig.buttons['Pan'].classList.remove('active');\n        fig.buttons['Zoom'].classList.add('active');\n    } else {\n        fig.buttons['Pan'].classList.remove('active');\n        fig.buttons['Zoom'].classList.remove('active');\n    }\n};\n\nmpl.figure.prototype.updated_canvas_event = function () {\n    // Called whenever the canvas gets updated.\n    this.send_message('ack', {});\n};\n\n// A function to construct a web socket function for onmessage handling.\n// Called in the figure constructor.\nmpl.figure.prototype._make_on_message_function = function (fig) {\n    return function socket_on_message(evt) {\n        if (evt.data instanceof Blob) {\n            var img = evt.data;\n            if (img.type !== 'image/png') {\n                /* FIXME: We get \"Resource interpreted as Image but\n                 * transferred with MIME type text/plain:\" errors on\n                 * Chrome.  But how to set the MIME type?  It doesn't seem\n                 * to be part of the websocket stream */\n                img.type = 'image/png';\n            }\n\n            /* Free the memory for the previous frames */\n            if (fig.imageObj.src) {\n                (window.URL || window.webkitURL).revokeObjectURL(\n                    fig.imageObj.src\n                );\n            }\n\n            fig.imageObj.src = (window.URL || window.webkitURL).createObjectURL(\n                img\n            );\n            fig.updated_canvas_event();\n            fig.waiting = false;\n            return;\n        } else if (\n            typeof evt.data === 'string' &&\n            evt.data.slice(0, 21) === 'data:image/png;base64'\n        ) {\n            fig.imageObj.src = evt.data;\n            fig.updated_canvas_event();\n            fig.waiting = false;\n            return;\n        }\n\n        var msg = JSON.parse(evt.data);\n        var msg_type = msg['type'];\n\n        // Call the  \"handle_{type}\" callback, which takes\n        // the figure and JSON message as its only arguments.\n        try {\n            var callback = fig['handle_' + msg_type];\n        } catch (e) {\n            console.log(\n                \"No handler for the '\" + msg_type + \"' message type: \",\n                msg\n            );\n            return;\n        }\n\n        if (callback) {\n            try {\n                // console.log(\"Handling '\" + msg_type + \"' message: \", msg);\n                callback(fig, msg);\n            } catch (e) {\n                console.log(\n                    \"Exception inside the 'handler_\" + msg_type + \"' callback:\",\n                    e,\n                    e.stack,\n                    msg\n                );\n            }\n        }\n    };\n};\n\n// from https://stackoverflow.com/questions/1114465/getting-mouse-location-in-canvas\nmpl.findpos = function (e) {\n    //this section is from http://www.quirksmode.org/js/events_properties.html\n    var targ;\n    if (!e) {\n        e = window.event;\n    }\n    if (e.target) {\n        targ = e.target;\n    } else if (e.srcElement) {\n        targ = e.srcElement;\n    }\n    if (targ.nodeType === 3) {\n        // defeat Safari bug\n        targ = targ.parentNode;\n    }\n\n    // pageX,Y are the mouse positions relative to the document\n    var boundingRect = targ.getBoundingClientRect();\n    var x = e.pageX - (boundingRect.left + document.body.scrollLeft);\n    var y = e.pageY - (boundingRect.top + document.body.scrollTop);\n\n    return { x: x, y: y };\n};\n\n/*\n * return a copy of an object with only non-object keys\n * we need this to avoid circular references\n * https://stackoverflow.com/a/24161582/3208463\n */\nfunction simpleKeys(original) {\n    return Object.keys(original).reduce(function (obj, key) {\n        if (typeof original[key] !== 'object') {\n            obj[key] = original[key];\n        }\n        return obj;\n    }, {});\n}\n\nmpl.figure.prototype.mouse_event = function (event, name) {\n    var canvas_pos = mpl.findpos(event);\n\n    if (name === 'button_press') {\n        this.canvas.focus();\n        this.canvas_div.focus();\n    }\n\n    var x = canvas_pos.x * this.ratio;\n    var y = canvas_pos.y * this.ratio;\n\n    this.send_message(name, {\n        x: x,\n        y: y,\n        button: event.button,\n        step: event.step,\n        guiEvent: simpleKeys(event),\n    });\n\n    /* This prevents the web browser from automatically changing to\n     * the text insertion cursor when the button is pressed.  We want\n     * to control all of the cursor setting manually through the\n     * 'cursor' event from matplotlib */\n    event.preventDefault();\n    return false;\n};\n\nmpl.figure.prototype._key_event_extra = function (_event, _name) {\n    // Handle any extra behaviour associated with a key event\n};\n\nmpl.figure.prototype.key_event = function (event, name) {\n    // Prevent repeat events\n    if (name === 'key_press') {\n        if (event.key === this._key) {\n            return;\n        } else {\n            this._key = event.key;\n        }\n    }\n    if (name === 'key_release') {\n        this._key = null;\n    }\n\n    var value = '';\n    if (event.ctrlKey && event.key !== 'Control') {\n        value += 'ctrl+';\n    }\n    else if (event.altKey && event.key !== 'Alt') {\n        value += 'alt+';\n    }\n    else if (event.shiftKey && event.key !== 'Shift') {\n        value += 'shift+';\n    }\n\n    value += 'k' + event.key;\n\n    this._key_event_extra(event, name);\n\n    this.send_message(name, { key: value, guiEvent: simpleKeys(event) });\n    return false;\n};\n\nmpl.figure.prototype.toolbar_button_onclick = function (name) {\n    if (name === 'download') {\n        this.handle_save(this, null);\n    } else {\n        this.send_message('toolbar_button', { name: name });\n    }\n};\n\nmpl.figure.prototype.toolbar_button_onmouseover = function (tooltip) {\n    this.message.textContent = tooltip;\n};\n\n///////////////// REMAINING CONTENT GENERATED BY embed_js.py /////////////////\n// prettier-ignore\nvar _JSXTOOLS_RESIZE_OBSERVER=function(A){var t,i=new WeakMap,n=new WeakMap,a=new WeakMap,r=new WeakMap,o=new Set;function s(e){if(!(this instanceof s))throw new TypeError(\"Constructor requires 'new' operator\");i.set(this,e)}function h(){throw new TypeError(\"Function is not a constructor\")}function c(e,t,i,n){e=0 in arguments?Number(arguments[0]):0,t=1 in arguments?Number(arguments[1]):0,i=2 in arguments?Number(arguments[2]):0,n=3 in arguments?Number(arguments[3]):0,this.right=(this.x=this.left=e)+(this.width=i),this.bottom=(this.y=this.top=t)+(this.height=n),Object.freeze(this)}function d(){t=requestAnimationFrame(d);var s=new WeakMap,p=new Set;o.forEach((function(t){r.get(t).forEach((function(i){var r=t instanceof window.SVGElement,o=a.get(t),d=r?0:parseFloat(o.paddingTop),f=r?0:parseFloat(o.paddingRight),l=r?0:parseFloat(o.paddingBottom),u=r?0:parseFloat(o.paddingLeft),g=r?0:parseFloat(o.borderTopWidth),m=r?0:parseFloat(o.borderRightWidth),w=r?0:parseFloat(o.borderBottomWidth),b=u+f,F=d+l,v=(r?0:parseFloat(o.borderLeftWidth))+m,W=g+w,y=r?0:t.offsetHeight-W-t.clientHeight,E=r?0:t.offsetWidth-v-t.clientWidth,R=b+v,z=F+W,M=r?t.width:parseFloat(o.width)-R-E,O=r?t.height:parseFloat(o.height)-z-y;if(n.has(t)){var k=n.get(t);if(k[0]===M&&k[1]===O)return}n.set(t,[M,O]);var S=Object.create(h.prototype);S.target=t,S.contentRect=new c(u,d,M,O),s.has(i)||(s.set(i,[]),p.add(i)),s.get(i).push(S)}))})),p.forEach((function(e){i.get(e).call(e,s.get(e),e)}))}return s.prototype.observe=function(i){if(i instanceof window.Element){r.has(i)||(r.set(i,new Set),o.add(i),a.set(i,window.getComputedStyle(i)));var n=r.get(i);n.has(this)||n.add(this),cancelAnimationFrame(t),t=requestAnimationFrame(d)}},s.prototype.unobserve=function(i){if(i instanceof window.Element&&r.has(i)){var n=r.get(i);n.has(this)&&(n.delete(this),n.size||(r.delete(i),o.delete(i))),n.size||r.delete(i),o.size||cancelAnimationFrame(t)}},A.DOMRectReadOnly=c,A.ResizeObserver=s,A.ResizeObserverEntry=h,A}; // eslint-disable-line\nmpl.toolbar_items = [[\"Home\", \"Reset original view\", \"fa fa-home icon-home\", \"home\"], [\"Back\", \"Back to previous view\", \"fa fa-arrow-left icon-arrow-left\", \"back\"], [\"Forward\", \"Forward to next view\", \"fa fa-arrow-right icon-arrow-right\", \"forward\"], [\"\", \"\", \"\", \"\"], [\"Pan\", \"Left button pans, Right button zooms\\nx/y fixes axis, CTRL fixes aspect\", \"fa fa-arrows icon-move\", \"pan\"], [\"Zoom\", \"Zoom to rectangle\\nx/y fixes axis\", \"fa fa-square-o icon-check-empty\", \"zoom\"], [\"\", \"\", \"\", \"\"], [\"Download\", \"Download plot\", \"fa fa-floppy-o icon-save\", \"download\"]];\n\nmpl.extensions = [\"eps\", \"jpeg\", \"pgf\", \"pdf\", \"png\", \"ps\", \"raw\", \"svg\", \"tif\"];\n\nmpl.default_extension = \"png\";/* global mpl */\n\nvar comm_websocket_adapter = function (comm) {\n    // Create a \"websocket\"-like object which calls the given IPython comm\n    // object with the appropriate methods. Currently this is a non binary\n    // socket, so there is still some room for performance tuning.\n    var ws = {};\n\n    ws.binaryType = comm.kernel.ws.binaryType;\n    ws.readyState = comm.kernel.ws.readyState;\n    function updateReadyState(_event) {\n        if (comm.kernel.ws) {\n            ws.readyState = comm.kernel.ws.readyState;\n        } else {\n            ws.readyState = 3; // Closed state.\n        }\n    }\n    comm.kernel.ws.addEventListener('open', updateReadyState);\n    comm.kernel.ws.addEventListener('close', updateReadyState);\n    comm.kernel.ws.addEventListener('error', updateReadyState);\n\n    ws.close = function () {\n        comm.close();\n    };\n    ws.send = function (m) {\n        //console.log('sending', m);\n        comm.send(m);\n    };\n    // Register the callback with on_msg.\n    comm.on_msg(function (msg) {\n        //console.log('receiving', msg['content']['data'], msg);\n        var data = msg['content']['data'];\n        if (data['blob'] !== undefined) {\n            data = {\n                data: new Blob(msg['buffers'], { type: data['blob'] }),\n            };\n        }\n        // Pass the mpl event to the overridden (by mpl) onmessage function.\n        ws.onmessage(data);\n    });\n    return ws;\n};\n\nmpl.mpl_figure_comm = function (comm, msg) {\n    // This is the function which gets called when the mpl process\n    // starts-up an IPython Comm through the \"matplotlib\" channel.\n\n    var id = msg.content.data.id;\n    // Get hold of the div created by the display call when the Comm\n    // socket was opened in Python.\n    var element = document.getElementById(id);\n    var ws_proxy = comm_websocket_adapter(comm);\n\n    function ondownload(figure, _format) {\n        window.open(figure.canvas.toDataURL());\n    }\n\n    var fig = new mpl.figure(id, ws_proxy, ondownload, element);\n\n    // Call onopen now - mpl needs it, as it is assuming we've passed it a real\n    // web socket which is closed, not our websocket->open comm proxy.\n    ws_proxy.onopen();\n\n    fig.parent_element = element;\n    fig.cell_info = mpl.find_output_cell(\"<div id='\" + id + \"'></div>\");\n    if (!fig.cell_info) {\n        console.error('Failed to find cell for figure', id, fig);\n        return;\n    }\n    fig.cell_info[0].output_area.element.on(\n        'cleared',\n        { fig: fig },\n        fig._remove_fig_handler\n    );\n};\n\nmpl.figure.prototype.handle_close = function (fig, msg) {\n    var width = fig.canvas.width / fig.ratio;\n    fig.cell_info[0].output_area.element.off(\n        'cleared',\n        fig._remove_fig_handler\n    );\n    fig.resizeObserverInstance.unobserve(fig.canvas_div);\n\n    // Update the output cell to use the data from the current canvas.\n    fig.push_to_output();\n    var dataURL = fig.canvas.toDataURL();\n    // Re-enable the keyboard manager in IPython - without this line, in FF,\n    // the notebook keyboard shortcuts fail.\n    IPython.keyboard_manager.enable();\n    fig.parent_element.innerHTML =\n        '<img src=\"' + dataURL + '\" width=\"' + width + '\">';\n    fig.close_ws(fig, msg);\n};\n\nmpl.figure.prototype.close_ws = function (fig, msg) {\n    fig.send_message('closing', msg);\n    // fig.ws.close()\n};\n\nmpl.figure.prototype.push_to_output = function (_remove_interactive) {\n    // Turn the data on the canvas into data in the output cell.\n    var width = this.canvas.width / this.ratio;\n    var dataURL = this.canvas.toDataURL();\n    this.cell_info[1]['text/html'] =\n        '<img src=\"' + dataURL + '\" width=\"' + width + '\">';\n};\n\nmpl.figure.prototype.updated_canvas_event = function () {\n    // Tell IPython that the notebook contents must change.\n    IPython.notebook.set_dirty(true);\n    this.send_message('ack', {});\n    var fig = this;\n    // Wait a second, then push the new image to the DOM so\n    // that it is saved nicely (might be nice to debounce this).\n    setTimeout(function () {\n        fig.push_to_output();\n    }, 1000);\n};\n\nmpl.figure.prototype._init_toolbar = function () {\n    var fig = this;\n\n    var toolbar = document.createElement('div');\n    toolbar.classList = 'btn-toolbar';\n    this.root.appendChild(toolbar);\n\n    function on_click_closure(name) {\n        return function (_event) {\n            return fig.toolbar_button_onclick(name);\n        };\n    }\n\n    function on_mouseover_closure(tooltip) {\n        return function (event) {\n            if (!event.currentTarget.disabled) {\n                return fig.toolbar_button_onmouseover(tooltip);\n            }\n        };\n    }\n\n    fig.buttons = {};\n    var buttonGroup = document.createElement('div');\n    buttonGroup.classList = 'btn-group';\n    var button;\n    for (var toolbar_ind in mpl.toolbar_items) {\n        var name = mpl.toolbar_items[toolbar_ind][0];\n        var tooltip = mpl.toolbar_items[toolbar_ind][1];\n        var image = mpl.toolbar_items[toolbar_ind][2];\n        var method_name = mpl.toolbar_items[toolbar_ind][3];\n\n        if (!name) {\n            /* Instead of a spacer, we start a new button group. */\n            if (buttonGroup.hasChildNodes()) {\n                toolbar.appendChild(buttonGroup);\n            }\n            buttonGroup = document.createElement('div');\n            buttonGroup.classList = 'btn-group';\n            continue;\n        }\n\n        button = fig.buttons[name] = document.createElement('button');\n        button.classList = 'btn btn-default';\n        button.href = '#';\n        button.title = name;\n        button.innerHTML = '<i class=\"fa ' + image + ' fa-lg\"></i>';\n        button.addEventListener('click', on_click_closure(method_name));\n        button.addEventListener('mouseover', on_mouseover_closure(tooltip));\n        buttonGroup.appendChild(button);\n    }\n\n    if (buttonGroup.hasChildNodes()) {\n        toolbar.appendChild(buttonGroup);\n    }\n\n    // Add the status bar.\n    var status_bar = document.createElement('span');\n    status_bar.classList = 'mpl-message pull-right';\n    toolbar.appendChild(status_bar);\n    this.message = status_bar;\n\n    // Add the close button to the window.\n    var buttongrp = document.createElement('div');\n    buttongrp.classList = 'btn-group inline pull-right';\n    button = document.createElement('button');\n    button.classList = 'btn btn-mini btn-primary';\n    button.href = '#';\n    button.title = 'Stop Interaction';\n    button.innerHTML = '<i class=\"fa fa-power-off icon-remove icon-large\"></i>';\n    button.addEventListener('click', function (_evt) {\n        fig.handle_close(fig, {});\n    });\n    button.addEventListener(\n        'mouseover',\n        on_mouseover_closure('Stop Interaction')\n    );\n    buttongrp.appendChild(button);\n    var titlebar = this.root.querySelector('.ui-dialog-titlebar');\n    titlebar.insertBefore(buttongrp, titlebar.firstChild);\n};\n\nmpl.figure.prototype._remove_fig_handler = function (event) {\n    var fig = event.data.fig;\n    if (event.target !== this) {\n        // Ignore bubbled events from children.\n        return;\n    }\n    fig.close_ws(fig, {});\n};\n\nmpl.figure.prototype._root_extra_style = function (el) {\n    el.style.boxSizing = 'content-box'; // override notebook setting of border-box.\n};\n\nmpl.figure.prototype._canvas_extra_style = function (el) {\n    // this is important to make the div 'focusable\n    el.setAttribute('tabindex', 0);\n    // reach out to IPython and tell the keyboard manager to turn it's self\n    // off when our div gets focus\n\n    // location in version 3\n    if (IPython.notebook.keyboard_manager) {\n        IPython.notebook.keyboard_manager.register_events(el);\n    } else {\n        // location in version 2\n        IPython.keyboard_manager.register_events(el);\n    }\n};\n\nmpl.figure.prototype._key_event_extra = function (event, _name) {\n    // Check for shift+enter\n    if (event.shiftKey && event.which === 13) {\n        this.canvas_div.blur();\n        // select the cell after this one\n        var index = IPython.notebook.find_cell_index(this.cell_info[0]);\n        IPython.notebook.select(index + 1);\n    }\n};\n\nmpl.figure.prototype.handle_save = function (fig, _msg) {\n    fig.ondownload(fig, null);\n};\n\nmpl.find_output_cell = function (html_output) {\n    // Return the cell and output element which can be found *uniquely* in the notebook.\n    // Note - this is a bit hacky, but it is done because the \"notebook_saving.Notebook\"\n    // IPython event is triggered only after the cells have been serialised, which for\n    // our purposes (turning an active figure into a static one), is too late.\n    var cells = IPython.notebook.get_cells();\n    var ncells = cells.length;\n    for (var i = 0; i < ncells; i++) {\n        var cell = cells[i];\n        if (cell.cell_type === 'code') {\n            for (var j = 0; j < cell.output_area.outputs.length; j++) {\n                var data = cell.output_area.outputs[j];\n                if (data.data) {\n                    // IPython >= 3 moved mimebundle to data attribute of output\n                    data = data.data;\n                }\n                if (data['text/html'] === html_output) {\n                    return [cell, data, j];\n                }\n            }\n        }\n    }\n};\n\n// Register the function which deals with the matplotlib target/channel.\n// The kernel may be null if the page has been refreshed.\nif (IPython.notebook.kernel !== null) {\n    IPython.notebook.kernel.comm_manager.register_target(\n        'matplotlib',\n        mpl.mpl_figure_comm\n    );\n}\n",
          "text/plain": "<IPython.core.display.Javascript object>"
         },
         "metadata": {},
         "output_type": "display_data"
        },
        {
         "data": {
          "text/html": "<div id='db52a84a-56a7-4080-a449-29f6b465a0a1'></div>",
          "text/plain": "<IPython.core.display.HTML object>"
         },
         "metadata": {},
         "output_type": "display_data"
        }
       ]
      }
     },
     "e2e8772ff63d435191473af7f42beb8c": {
      "model_module": "@jupyter-widgets/base",
      "model_module_version": "1.2.0",
      "model_name": "LayoutModel",
      "state": {
       "grid_area": "widget002"
      }
     },
     "e4eed72fe4744113b1d1e1803fa7afa7": {
      "model_module": "@jupyter-widgets/output",
      "model_module_version": "1.0.0",
      "model_name": "OutputModel",
      "state": {
       "layout": "IPY_MODEL_1d25eabc6a3d43cdb244226132002d34",
       "outputs": [
        {
         "data": {
          "text/plain": "\"La predicció per l'isòtop de O més pesat és un nucli amb A = 51 Nucleons\""
         },
         "metadata": {},
         "output_type": "display_data"
        }
       ]
      }
     },
     "e5d9feb1aa9246e3b7309100f9bc81b0": {
      "model_module": "@jupyter-widgets/controls",
      "model_module_version": "1.5.0",
      "model_name": "TextModel",
      "state": {
       "description": "El rang (en nucleons) de l'isotop més pesat va de:",
       "layout": "IPY_MODEL_d7d9754aa3bf481f9b327d621757292c",
       "style": "IPY_MODEL_bcdffd90d3f240c190871c9b05ba6896"
      }
     },
     "ec7a2f37bab741228669789fd19e7973": {
      "model_module": "@jupyter-widgets/controls",
      "model_module_version": "1.5.0",
      "model_name": "DescriptionStyleModel",
      "state": {
       "description_width": "200px"
      }
     },
     "efa976f964fd4209ade08663c57b609b": {
      "model_module": "@jupyter-widgets/controls",
      "model_module_version": "1.5.0",
      "model_name": "DescriptionStyleModel",
      "state": {
       "description_width": "50px"
      }
     },
     "f146c9cbbfe943aaab33f748ec4a380b": {
      "model_module": "@jupyter-widgets/base",
      "model_module_version": "1.2.0",
      "model_name": "LayoutModel",
      "state": {}
     },
     "f2898d9d7cfc43239af52a0d8737c0f1": {
      "model_module": "@jupyter-widgets/controls",
      "model_module_version": "1.5.0",
      "model_name": "BoundedFloatTextModel",
      "state": {
       "description": "Volum:",
       "layout": "IPY_MODEL_4217be0832ba4f918294008e0e3a552d",
       "max": 20,
       "style": "IPY_MODEL_f2e3845e38194dfb989dbb5e4528cba6",
       "value": 16
      }
     },
     "f2e3845e38194dfb989dbb5e4528cba6": {
      "model_module": "@jupyter-widgets/controls",
      "model_module_version": "1.5.0",
      "model_name": "DescriptionStyleModel",
      "state": {
       "description_width": "200px"
      }
     },
     "f358b86642164ce49629fe55181f04d5": {
      "model_module": "@jupyter-widgets/base",
      "model_module_version": "1.2.0",
      "model_name": "LayoutModel",
      "state": {}
     },
     "f3624c8b1a324636a76470dd34d808de": {
      "model_module": "@jupyter-widgets/controls",
      "model_module_version": "1.5.0",
      "model_name": "DescriptionStyleModel",
      "state": {
       "description_width": ""
      }
     },
     "f4a717e830fb4ec3b466d89c8c8f8243": {
      "model_module": "@jupyter-widgets/base",
      "model_module_version": "1.2.0",
      "model_name": "LayoutModel",
      "state": {
       "width": "100px"
      }
     },
     "f6e725e53a9d40feb6c74227b39ff8d0": {
      "model_module": "@jupyter-widgets/controls",
      "model_module_version": "1.5.0",
      "model_name": "BoundedFloatTextModel",
      "state": {
       "description": "Asimetria:",
       "layout": "IPY_MODEL_4217be0832ba4f918294008e0e3a552d",
       "max": 50,
       "style": "IPY_MODEL_df722d7527664d4bb6f9e694b14a687d",
       "value": 23
      }
     },
     "fef3523773504312b26cde8df6fc8b96": {
      "model_module": "@jupyter-widgets/base",
      "model_module_version": "1.2.0",
      "model_name": "LayoutModel",
      "state": {
       "grid_area": "widget003"
      }
     }
    },
    "version_major": 2,
    "version_minor": 0
   }
  }
 },
 "nbformat": 4,
 "nbformat_minor": 5
}
