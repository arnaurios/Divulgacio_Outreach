{
 "cells": [
  {
   "cell_type": "markdown",
   "id": "distinguished-league",
   "metadata": {},
   "source": [
    "## Activitat 2: Quin és l’isòtop d’oxigen més pesat?\n",
    "\n",
    "En aquesta activitat investigareu isòtops d'oxigen exòtics. Alguns són tan exòtics, que encara no els hem observat experimentalment! Utilitzareu la fórmula del ***MGL*** per predir quin és l’isòtop d’oxigen més pesat amb una energia d'enllaç positiva. Us demanarem que feu servir els valors que heu trobat pels paràmetres $a_V$ i $a_A$ a l'activitat anterior.\n",
    "\n",
    "***Gràfica 3***: mostra l'energia d'enllaç per nucleó $(E/A)$, mesurada experimentalment i calculada teòricament. És una figura semblant a la ***Gràfica 2*** mostrada anteriorment, però ampliada per poder veure els nombres de masses de $A=12$ fins a $A=200$. El MGL es pot fer servir per predir l'energia d'enllaç per nucleó d’isòtops d’oxigen amb masses molt més grans que les observades experimentalment. Al 2022, hem observat isòtops d'oxigen amb masses enre $A=11$ i $A=28$. \n",
    "\n",
    "Aquesta activitat també es pot adaptar per a altres elements de la Taula Periòdica. Per fer-ho només heu d'entrar el símbol de l'element que vulgueu estudiar a la capsa anomenada ***Element***. Us animeu a canviar l'element i fer-te noves preguntes més enllà d'aquesta activitat?\n",
    "\n",
    "Les dades utilitzades per crear la ***Gràfica 3*** es mostren al codi. Per inspeccionar el codi feu us del botó ***Click there to togle on/off the raw code*** que trobareu al final de la pàgina. "
   ]
  },
  {
   "cell_type": "code",
   "execution_count": 1,
   "id": "sporting-battery",
   "metadata": {},
   "outputs": [],
   "source": [
    "import ipywidgets as widgets\n",
    "import matplotlib.pyplot as plt\n",
    "import numpy as np\n",
    "import pandas as pd\n",
    "from IPython.display import display\n",
    "\n",
    "%matplotlib nbagg"
   ]
  },
  {
   "cell_type": "code",
   "execution_count": 7,
   "id": "familiar-waters",
   "metadata": {},
   "outputs": [
    {
     "data": {
      "application/javascript": [
       "/* Put everything inside the global mpl namespace */\n",
       "/* global mpl */\n",
       "window.mpl = {};\n",
       "\n",
       "mpl.get_websocket_type = function () {\n",
       "    if (typeof WebSocket !== 'undefined') {\n",
       "        return WebSocket;\n",
       "    } else if (typeof MozWebSocket !== 'undefined') {\n",
       "        return MozWebSocket;\n",
       "    } else {\n",
       "        alert(\n",
       "            'Your browser does not have WebSocket support. ' +\n",
       "                'Please try Chrome, Safari or Firefox ≥ 6. ' +\n",
       "                'Firefox 4 and 5 are also supported but you ' +\n",
       "                'have to enable WebSockets in about:config.'\n",
       "        );\n",
       "    }\n",
       "};\n",
       "\n",
       "mpl.figure = function (figure_id, websocket, ondownload, parent_element) {\n",
       "    this.id = figure_id;\n",
       "\n",
       "    this.ws = websocket;\n",
       "\n",
       "    this.supports_binary = this.ws.binaryType !== undefined;\n",
       "\n",
       "    if (!this.supports_binary) {\n",
       "        var warnings = document.getElementById('mpl-warnings');\n",
       "        if (warnings) {\n",
       "            warnings.style.display = 'block';\n",
       "            warnings.textContent =\n",
       "                'This browser does not support binary websocket messages. ' +\n",
       "                'Performance may be slow.';\n",
       "        }\n",
       "    }\n",
       "\n",
       "    this.imageObj = new Image();\n",
       "\n",
       "    this.context = undefined;\n",
       "    this.message = undefined;\n",
       "    this.canvas = undefined;\n",
       "    this.rubberband_canvas = undefined;\n",
       "    this.rubberband_context = undefined;\n",
       "    this.format_dropdown = undefined;\n",
       "\n",
       "    this.image_mode = 'full';\n",
       "\n",
       "    this.root = document.createElement('div');\n",
       "    this.root.setAttribute('style', 'display: inline-block');\n",
       "    this._root_extra_style(this.root);\n",
       "\n",
       "    parent_element.appendChild(this.root);\n",
       "\n",
       "    this._init_header(this);\n",
       "    this._init_canvas(this);\n",
       "    this._init_toolbar(this);\n",
       "\n",
       "    var fig = this;\n",
       "\n",
       "    this.waiting = false;\n",
       "\n",
       "    this.ws.onopen = function () {\n",
       "        fig.send_message('supports_binary', { value: fig.supports_binary });\n",
       "        fig.send_message('send_image_mode', {});\n",
       "        if (fig.ratio !== 1) {\n",
       "            fig.send_message('set_device_pixel_ratio', {\n",
       "                device_pixel_ratio: fig.ratio,\n",
       "            });\n",
       "        }\n",
       "        fig.send_message('refresh', {});\n",
       "    };\n",
       "\n",
       "    this.imageObj.onload = function () {\n",
       "        if (fig.image_mode === 'full') {\n",
       "            // Full images could contain transparency (where diff images\n",
       "            // almost always do), so we need to clear the canvas so that\n",
       "            // there is no ghosting.\n",
       "            fig.context.clearRect(0, 0, fig.canvas.width, fig.canvas.height);\n",
       "        }\n",
       "        fig.context.drawImage(fig.imageObj, 0, 0);\n",
       "    };\n",
       "\n",
       "    this.imageObj.onunload = function () {\n",
       "        fig.ws.close();\n",
       "    };\n",
       "\n",
       "    this.ws.onmessage = this._make_on_message_function(this);\n",
       "\n",
       "    this.ondownload = ondownload;\n",
       "};\n",
       "\n",
       "mpl.figure.prototype._init_header = function () {\n",
       "    var titlebar = document.createElement('div');\n",
       "    titlebar.classList =\n",
       "        'ui-dialog-titlebar ui-widget-header ui-corner-all ui-helper-clearfix';\n",
       "    var titletext = document.createElement('div');\n",
       "    titletext.classList = 'ui-dialog-title';\n",
       "    titletext.setAttribute(\n",
       "        'style',\n",
       "        'width: 100%; text-align: center; padding: 3px;'\n",
       "    );\n",
       "    titlebar.appendChild(titletext);\n",
       "    this.root.appendChild(titlebar);\n",
       "    this.header = titletext;\n",
       "};\n",
       "\n",
       "mpl.figure.prototype._canvas_extra_style = function (_canvas_div) {};\n",
       "\n",
       "mpl.figure.prototype._root_extra_style = function (_canvas_div) {};\n",
       "\n",
       "mpl.figure.prototype._init_canvas = function () {\n",
       "    var fig = this;\n",
       "\n",
       "    var canvas_div = (this.canvas_div = document.createElement('div'));\n",
       "    canvas_div.setAttribute(\n",
       "        'style',\n",
       "        'border: 1px solid #ddd;' +\n",
       "            'box-sizing: content-box;' +\n",
       "            'clear: both;' +\n",
       "            'min-height: 1px;' +\n",
       "            'min-width: 1px;' +\n",
       "            'outline: 0;' +\n",
       "            'overflow: hidden;' +\n",
       "            'position: relative;' +\n",
       "            'resize: both;'\n",
       "    );\n",
       "\n",
       "    function on_keyboard_event_closure(name) {\n",
       "        return function (event) {\n",
       "            return fig.key_event(event, name);\n",
       "        };\n",
       "    }\n",
       "\n",
       "    canvas_div.addEventListener(\n",
       "        'keydown',\n",
       "        on_keyboard_event_closure('key_press')\n",
       "    );\n",
       "    canvas_div.addEventListener(\n",
       "        'keyup',\n",
       "        on_keyboard_event_closure('key_release')\n",
       "    );\n",
       "\n",
       "    this._canvas_extra_style(canvas_div);\n",
       "    this.root.appendChild(canvas_div);\n",
       "\n",
       "    var canvas = (this.canvas = document.createElement('canvas'));\n",
       "    canvas.classList.add('mpl-canvas');\n",
       "    canvas.setAttribute('style', 'box-sizing: content-box;');\n",
       "\n",
       "    this.context = canvas.getContext('2d');\n",
       "\n",
       "    var backingStore =\n",
       "        this.context.backingStorePixelRatio ||\n",
       "        this.context.webkitBackingStorePixelRatio ||\n",
       "        this.context.mozBackingStorePixelRatio ||\n",
       "        this.context.msBackingStorePixelRatio ||\n",
       "        this.context.oBackingStorePixelRatio ||\n",
       "        this.context.backingStorePixelRatio ||\n",
       "        1;\n",
       "\n",
       "    this.ratio = (window.devicePixelRatio || 1) / backingStore;\n",
       "\n",
       "    var rubberband_canvas = (this.rubberband_canvas = document.createElement(\n",
       "        'canvas'\n",
       "    ));\n",
       "    rubberband_canvas.setAttribute(\n",
       "        'style',\n",
       "        'box-sizing: content-box; position: absolute; left: 0; top: 0; z-index: 1;'\n",
       "    );\n",
       "\n",
       "    // Apply a ponyfill if ResizeObserver is not implemented by browser.\n",
       "    if (this.ResizeObserver === undefined) {\n",
       "        if (window.ResizeObserver !== undefined) {\n",
       "            this.ResizeObserver = window.ResizeObserver;\n",
       "        } else {\n",
       "            var obs = _JSXTOOLS_RESIZE_OBSERVER({});\n",
       "            this.ResizeObserver = obs.ResizeObserver;\n",
       "        }\n",
       "    }\n",
       "\n",
       "    this.resizeObserverInstance = new this.ResizeObserver(function (entries) {\n",
       "        var nentries = entries.length;\n",
       "        for (var i = 0; i < nentries; i++) {\n",
       "            var entry = entries[i];\n",
       "            var width, height;\n",
       "            if (entry.contentBoxSize) {\n",
       "                if (entry.contentBoxSize instanceof Array) {\n",
       "                    // Chrome 84 implements new version of spec.\n",
       "                    width = entry.contentBoxSize[0].inlineSize;\n",
       "                    height = entry.contentBoxSize[0].blockSize;\n",
       "                } else {\n",
       "                    // Firefox implements old version of spec.\n",
       "                    width = entry.contentBoxSize.inlineSize;\n",
       "                    height = entry.contentBoxSize.blockSize;\n",
       "                }\n",
       "            } else {\n",
       "                // Chrome <84 implements even older version of spec.\n",
       "                width = entry.contentRect.width;\n",
       "                height = entry.contentRect.height;\n",
       "            }\n",
       "\n",
       "            // Keep the size of the canvas and rubber band canvas in sync with\n",
       "            // the canvas container.\n",
       "            if (entry.devicePixelContentBoxSize) {\n",
       "                // Chrome 84 implements new version of spec.\n",
       "                canvas.setAttribute(\n",
       "                    'width',\n",
       "                    entry.devicePixelContentBoxSize[0].inlineSize\n",
       "                );\n",
       "                canvas.setAttribute(\n",
       "                    'height',\n",
       "                    entry.devicePixelContentBoxSize[0].blockSize\n",
       "                );\n",
       "            } else {\n",
       "                canvas.setAttribute('width', width * fig.ratio);\n",
       "                canvas.setAttribute('height', height * fig.ratio);\n",
       "            }\n",
       "            canvas.setAttribute(\n",
       "                'style',\n",
       "                'width: ' + width + 'px; height: ' + height + 'px;'\n",
       "            );\n",
       "\n",
       "            rubberband_canvas.setAttribute('width', width);\n",
       "            rubberband_canvas.setAttribute('height', height);\n",
       "\n",
       "            // And update the size in Python. We ignore the initial 0/0 size\n",
       "            // that occurs as the element is placed into the DOM, which should\n",
       "            // otherwise not happen due to the minimum size styling.\n",
       "            if (fig.ws.readyState == 1 && width != 0 && height != 0) {\n",
       "                fig.request_resize(width, height);\n",
       "            }\n",
       "        }\n",
       "    });\n",
       "    this.resizeObserverInstance.observe(canvas_div);\n",
       "\n",
       "    function on_mouse_event_closure(name) {\n",
       "        return function (event) {\n",
       "            return fig.mouse_event(event, name);\n",
       "        };\n",
       "    }\n",
       "\n",
       "    rubberband_canvas.addEventListener(\n",
       "        'mousedown',\n",
       "        on_mouse_event_closure('button_press')\n",
       "    );\n",
       "    rubberband_canvas.addEventListener(\n",
       "        'mouseup',\n",
       "        on_mouse_event_closure('button_release')\n",
       "    );\n",
       "    rubberband_canvas.addEventListener(\n",
       "        'dblclick',\n",
       "        on_mouse_event_closure('dblclick')\n",
       "    );\n",
       "    // Throttle sequential mouse events to 1 every 20ms.\n",
       "    rubberband_canvas.addEventListener(\n",
       "        'mousemove',\n",
       "        on_mouse_event_closure('motion_notify')\n",
       "    );\n",
       "\n",
       "    rubberband_canvas.addEventListener(\n",
       "        'mouseenter',\n",
       "        on_mouse_event_closure('figure_enter')\n",
       "    );\n",
       "    rubberband_canvas.addEventListener(\n",
       "        'mouseleave',\n",
       "        on_mouse_event_closure('figure_leave')\n",
       "    );\n",
       "\n",
       "    canvas_div.addEventListener('wheel', function (event) {\n",
       "        if (event.deltaY < 0) {\n",
       "            event.step = 1;\n",
       "        } else {\n",
       "            event.step = -1;\n",
       "        }\n",
       "        on_mouse_event_closure('scroll')(event);\n",
       "    });\n",
       "\n",
       "    canvas_div.appendChild(canvas);\n",
       "    canvas_div.appendChild(rubberband_canvas);\n",
       "\n",
       "    this.rubberband_context = rubberband_canvas.getContext('2d');\n",
       "    this.rubberband_context.strokeStyle = '#000000';\n",
       "\n",
       "    this._resize_canvas = function (width, height, forward) {\n",
       "        if (forward) {\n",
       "            canvas_div.style.width = width + 'px';\n",
       "            canvas_div.style.height = height + 'px';\n",
       "        }\n",
       "    };\n",
       "\n",
       "    // Disable right mouse context menu.\n",
       "    this.rubberband_canvas.addEventListener('contextmenu', function (_e) {\n",
       "        event.preventDefault();\n",
       "        return false;\n",
       "    });\n",
       "\n",
       "    function set_focus() {\n",
       "        canvas.focus();\n",
       "        canvas_div.focus();\n",
       "    }\n",
       "\n",
       "    window.setTimeout(set_focus, 100);\n",
       "};\n",
       "\n",
       "mpl.figure.prototype._init_toolbar = function () {\n",
       "    var fig = this;\n",
       "\n",
       "    var toolbar = document.createElement('div');\n",
       "    toolbar.classList = 'mpl-toolbar';\n",
       "    this.root.appendChild(toolbar);\n",
       "\n",
       "    function on_click_closure(name) {\n",
       "        return function (_event) {\n",
       "            return fig.toolbar_button_onclick(name);\n",
       "        };\n",
       "    }\n",
       "\n",
       "    function on_mouseover_closure(tooltip) {\n",
       "        return function (event) {\n",
       "            if (!event.currentTarget.disabled) {\n",
       "                return fig.toolbar_button_onmouseover(tooltip);\n",
       "            }\n",
       "        };\n",
       "    }\n",
       "\n",
       "    fig.buttons = {};\n",
       "    var buttonGroup = document.createElement('div');\n",
       "    buttonGroup.classList = 'mpl-button-group';\n",
       "    for (var toolbar_ind in mpl.toolbar_items) {\n",
       "        var name = mpl.toolbar_items[toolbar_ind][0];\n",
       "        var tooltip = mpl.toolbar_items[toolbar_ind][1];\n",
       "        var image = mpl.toolbar_items[toolbar_ind][2];\n",
       "        var method_name = mpl.toolbar_items[toolbar_ind][3];\n",
       "\n",
       "        if (!name) {\n",
       "            /* Instead of a spacer, we start a new button group. */\n",
       "            if (buttonGroup.hasChildNodes()) {\n",
       "                toolbar.appendChild(buttonGroup);\n",
       "            }\n",
       "            buttonGroup = document.createElement('div');\n",
       "            buttonGroup.classList = 'mpl-button-group';\n",
       "            continue;\n",
       "        }\n",
       "\n",
       "        var button = (fig.buttons[name] = document.createElement('button'));\n",
       "        button.classList = 'mpl-widget';\n",
       "        button.setAttribute('role', 'button');\n",
       "        button.setAttribute('aria-disabled', 'false');\n",
       "        button.addEventListener('click', on_click_closure(method_name));\n",
       "        button.addEventListener('mouseover', on_mouseover_closure(tooltip));\n",
       "\n",
       "        var icon_img = document.createElement('img');\n",
       "        icon_img.src = '_images/' + image + '.png';\n",
       "        icon_img.srcset = '_images/' + image + '_large.png 2x';\n",
       "        icon_img.alt = tooltip;\n",
       "        button.appendChild(icon_img);\n",
       "\n",
       "        buttonGroup.appendChild(button);\n",
       "    }\n",
       "\n",
       "    if (buttonGroup.hasChildNodes()) {\n",
       "        toolbar.appendChild(buttonGroup);\n",
       "    }\n",
       "\n",
       "    var fmt_picker = document.createElement('select');\n",
       "    fmt_picker.classList = 'mpl-widget';\n",
       "    toolbar.appendChild(fmt_picker);\n",
       "    this.format_dropdown = fmt_picker;\n",
       "\n",
       "    for (var ind in mpl.extensions) {\n",
       "        var fmt = mpl.extensions[ind];\n",
       "        var option = document.createElement('option');\n",
       "        option.selected = fmt === mpl.default_extension;\n",
       "        option.innerHTML = fmt;\n",
       "        fmt_picker.appendChild(option);\n",
       "    }\n",
       "\n",
       "    var status_bar = document.createElement('span');\n",
       "    status_bar.classList = 'mpl-message';\n",
       "    toolbar.appendChild(status_bar);\n",
       "    this.message = status_bar;\n",
       "};\n",
       "\n",
       "mpl.figure.prototype.request_resize = function (x_pixels, y_pixels) {\n",
       "    // Request matplotlib to resize the figure. Matplotlib will then trigger a resize in the client,\n",
       "    // which will in turn request a refresh of the image.\n",
       "    this.send_message('resize', { width: x_pixels, height: y_pixels });\n",
       "};\n",
       "\n",
       "mpl.figure.prototype.send_message = function (type, properties) {\n",
       "    properties['type'] = type;\n",
       "    properties['figure_id'] = this.id;\n",
       "    this.ws.send(JSON.stringify(properties));\n",
       "};\n",
       "\n",
       "mpl.figure.prototype.send_draw_message = function () {\n",
       "    if (!this.waiting) {\n",
       "        this.waiting = true;\n",
       "        this.ws.send(JSON.stringify({ type: 'draw', figure_id: this.id }));\n",
       "    }\n",
       "};\n",
       "\n",
       "mpl.figure.prototype.handle_save = function (fig, _msg) {\n",
       "    var format_dropdown = fig.format_dropdown;\n",
       "    var format = format_dropdown.options[format_dropdown.selectedIndex].value;\n",
       "    fig.ondownload(fig, format);\n",
       "};\n",
       "\n",
       "mpl.figure.prototype.handle_resize = function (fig, msg) {\n",
       "    var size = msg['size'];\n",
       "    if (size[0] !== fig.canvas.width || size[1] !== fig.canvas.height) {\n",
       "        fig._resize_canvas(size[0], size[1], msg['forward']);\n",
       "        fig.send_message('refresh', {});\n",
       "    }\n",
       "};\n",
       "\n",
       "mpl.figure.prototype.handle_rubberband = function (fig, msg) {\n",
       "    var x0 = msg['x0'] / fig.ratio;\n",
       "    var y0 = (fig.canvas.height - msg['y0']) / fig.ratio;\n",
       "    var x1 = msg['x1'] / fig.ratio;\n",
       "    var y1 = (fig.canvas.height - msg['y1']) / fig.ratio;\n",
       "    x0 = Math.floor(x0) + 0.5;\n",
       "    y0 = Math.floor(y0) + 0.5;\n",
       "    x1 = Math.floor(x1) + 0.5;\n",
       "    y1 = Math.floor(y1) + 0.5;\n",
       "    var min_x = Math.min(x0, x1);\n",
       "    var min_y = Math.min(y0, y1);\n",
       "    var width = Math.abs(x1 - x0);\n",
       "    var height = Math.abs(y1 - y0);\n",
       "\n",
       "    fig.rubberband_context.clearRect(\n",
       "        0,\n",
       "        0,\n",
       "        fig.canvas.width / fig.ratio,\n",
       "        fig.canvas.height / fig.ratio\n",
       "    );\n",
       "\n",
       "    fig.rubberband_context.strokeRect(min_x, min_y, width, height);\n",
       "};\n",
       "\n",
       "mpl.figure.prototype.handle_figure_label = function (fig, msg) {\n",
       "    // Updates the figure title.\n",
       "    fig.header.textContent = msg['label'];\n",
       "};\n",
       "\n",
       "mpl.figure.prototype.handle_cursor = function (fig, msg) {\n",
       "    fig.rubberband_canvas.style.cursor = msg['cursor'];\n",
       "};\n",
       "\n",
       "mpl.figure.prototype.handle_message = function (fig, msg) {\n",
       "    fig.message.textContent = msg['message'];\n",
       "};\n",
       "\n",
       "mpl.figure.prototype.handle_draw = function (fig, _msg) {\n",
       "    // Request the server to send over a new figure.\n",
       "    fig.send_draw_message();\n",
       "};\n",
       "\n",
       "mpl.figure.prototype.handle_image_mode = function (fig, msg) {\n",
       "    fig.image_mode = msg['mode'];\n",
       "};\n",
       "\n",
       "mpl.figure.prototype.handle_history_buttons = function (fig, msg) {\n",
       "    for (var key in msg) {\n",
       "        if (!(key in fig.buttons)) {\n",
       "            continue;\n",
       "        }\n",
       "        fig.buttons[key].disabled = !msg[key];\n",
       "        fig.buttons[key].setAttribute('aria-disabled', !msg[key]);\n",
       "    }\n",
       "};\n",
       "\n",
       "mpl.figure.prototype.handle_navigate_mode = function (fig, msg) {\n",
       "    if (msg['mode'] === 'PAN') {\n",
       "        fig.buttons['Pan'].classList.add('active');\n",
       "        fig.buttons['Zoom'].classList.remove('active');\n",
       "    } else if (msg['mode'] === 'ZOOM') {\n",
       "        fig.buttons['Pan'].classList.remove('active');\n",
       "        fig.buttons['Zoom'].classList.add('active');\n",
       "    } else {\n",
       "        fig.buttons['Pan'].classList.remove('active');\n",
       "        fig.buttons['Zoom'].classList.remove('active');\n",
       "    }\n",
       "};\n",
       "\n",
       "mpl.figure.prototype.updated_canvas_event = function () {\n",
       "    // Called whenever the canvas gets updated.\n",
       "    this.send_message('ack', {});\n",
       "};\n",
       "\n",
       "// A function to construct a web socket function for onmessage handling.\n",
       "// Called in the figure constructor.\n",
       "mpl.figure.prototype._make_on_message_function = function (fig) {\n",
       "    return function socket_on_message(evt) {\n",
       "        if (evt.data instanceof Blob) {\n",
       "            var img = evt.data;\n",
       "            if (img.type !== 'image/png') {\n",
       "                /* FIXME: We get \"Resource interpreted as Image but\n",
       "                 * transferred with MIME type text/plain:\" errors on\n",
       "                 * Chrome.  But how to set the MIME type?  It doesn't seem\n",
       "                 * to be part of the websocket stream */\n",
       "                img.type = 'image/png';\n",
       "            }\n",
       "\n",
       "            /* Free the memory for the previous frames */\n",
       "            if (fig.imageObj.src) {\n",
       "                (window.URL || window.webkitURL).revokeObjectURL(\n",
       "                    fig.imageObj.src\n",
       "                );\n",
       "            }\n",
       "\n",
       "            fig.imageObj.src = (window.URL || window.webkitURL).createObjectURL(\n",
       "                img\n",
       "            );\n",
       "            fig.updated_canvas_event();\n",
       "            fig.waiting = false;\n",
       "            return;\n",
       "        } else if (\n",
       "            typeof evt.data === 'string' &&\n",
       "            evt.data.slice(0, 21) === 'data:image/png;base64'\n",
       "        ) {\n",
       "            fig.imageObj.src = evt.data;\n",
       "            fig.updated_canvas_event();\n",
       "            fig.waiting = false;\n",
       "            return;\n",
       "        }\n",
       "\n",
       "        var msg = JSON.parse(evt.data);\n",
       "        var msg_type = msg['type'];\n",
       "\n",
       "        // Call the  \"handle_{type}\" callback, which takes\n",
       "        // the figure and JSON message as its only arguments.\n",
       "        try {\n",
       "            var callback = fig['handle_' + msg_type];\n",
       "        } catch (e) {\n",
       "            console.log(\n",
       "                \"No handler for the '\" + msg_type + \"' message type: \",\n",
       "                msg\n",
       "            );\n",
       "            return;\n",
       "        }\n",
       "\n",
       "        if (callback) {\n",
       "            try {\n",
       "                // console.log(\"Handling '\" + msg_type + \"' message: \", msg);\n",
       "                callback(fig, msg);\n",
       "            } catch (e) {\n",
       "                console.log(\n",
       "                    \"Exception inside the 'handler_\" + msg_type + \"' callback:\",\n",
       "                    e,\n",
       "                    e.stack,\n",
       "                    msg\n",
       "                );\n",
       "            }\n",
       "        }\n",
       "    };\n",
       "};\n",
       "\n",
       "// from https://stackoverflow.com/questions/1114465/getting-mouse-location-in-canvas\n",
       "mpl.findpos = function (e) {\n",
       "    //this section is from http://www.quirksmode.org/js/events_properties.html\n",
       "    var targ;\n",
       "    if (!e) {\n",
       "        e = window.event;\n",
       "    }\n",
       "    if (e.target) {\n",
       "        targ = e.target;\n",
       "    } else if (e.srcElement) {\n",
       "        targ = e.srcElement;\n",
       "    }\n",
       "    if (targ.nodeType === 3) {\n",
       "        // defeat Safari bug\n",
       "        targ = targ.parentNode;\n",
       "    }\n",
       "\n",
       "    // pageX,Y are the mouse positions relative to the document\n",
       "    var boundingRect = targ.getBoundingClientRect();\n",
       "    var x = e.pageX - (boundingRect.left + document.body.scrollLeft);\n",
       "    var y = e.pageY - (boundingRect.top + document.body.scrollTop);\n",
       "\n",
       "    return { x: x, y: y };\n",
       "};\n",
       "\n",
       "/*\n",
       " * return a copy of an object with only non-object keys\n",
       " * we need this to avoid circular references\n",
       " * https://stackoverflow.com/a/24161582/3208463\n",
       " */\n",
       "function simpleKeys(original) {\n",
       "    return Object.keys(original).reduce(function (obj, key) {\n",
       "        if (typeof original[key] !== 'object') {\n",
       "            obj[key] = original[key];\n",
       "        }\n",
       "        return obj;\n",
       "    }, {});\n",
       "}\n",
       "\n",
       "mpl.figure.prototype.mouse_event = function (event, name) {\n",
       "    var canvas_pos = mpl.findpos(event);\n",
       "\n",
       "    if (name === 'button_press') {\n",
       "        this.canvas.focus();\n",
       "        this.canvas_div.focus();\n",
       "    }\n",
       "\n",
       "    var x = canvas_pos.x * this.ratio;\n",
       "    var y = canvas_pos.y * this.ratio;\n",
       "\n",
       "    this.send_message(name, {\n",
       "        x: x,\n",
       "        y: y,\n",
       "        button: event.button,\n",
       "        step: event.step,\n",
       "        guiEvent: simpleKeys(event),\n",
       "    });\n",
       "\n",
       "    /* This prevents the web browser from automatically changing to\n",
       "     * the text insertion cursor when the button is pressed.  We want\n",
       "     * to control all of the cursor setting manually through the\n",
       "     * 'cursor' event from matplotlib */\n",
       "    event.preventDefault();\n",
       "    return false;\n",
       "};\n",
       "\n",
       "mpl.figure.prototype._key_event_extra = function (_event, _name) {\n",
       "    // Handle any extra behaviour associated with a key event\n",
       "};\n",
       "\n",
       "mpl.figure.prototype.key_event = function (event, name) {\n",
       "    // Prevent repeat events\n",
       "    if (name === 'key_press') {\n",
       "        if (event.key === this._key) {\n",
       "            return;\n",
       "        } else {\n",
       "            this._key = event.key;\n",
       "        }\n",
       "    }\n",
       "    if (name === 'key_release') {\n",
       "        this._key = null;\n",
       "    }\n",
       "\n",
       "    var value = '';\n",
       "    if (event.ctrlKey && event.key !== 'Control') {\n",
       "        value += 'ctrl+';\n",
       "    }\n",
       "    else if (event.altKey && event.key !== 'Alt') {\n",
       "        value += 'alt+';\n",
       "    }\n",
       "    else if (event.shiftKey && event.key !== 'Shift') {\n",
       "        value += 'shift+';\n",
       "    }\n",
       "\n",
       "    value += 'k' + event.key;\n",
       "\n",
       "    this._key_event_extra(event, name);\n",
       "\n",
       "    this.send_message(name, { key: value, guiEvent: simpleKeys(event) });\n",
       "    return false;\n",
       "};\n",
       "\n",
       "mpl.figure.prototype.toolbar_button_onclick = function (name) {\n",
       "    if (name === 'download') {\n",
       "        this.handle_save(this, null);\n",
       "    } else {\n",
       "        this.send_message('toolbar_button', { name: name });\n",
       "    }\n",
       "};\n",
       "\n",
       "mpl.figure.prototype.toolbar_button_onmouseover = function (tooltip) {\n",
       "    this.message.textContent = tooltip;\n",
       "};\n",
       "\n",
       "///////////////// REMAINING CONTENT GENERATED BY embed_js.py /////////////////\n",
       "// prettier-ignore\n",
       "var _JSXTOOLS_RESIZE_OBSERVER=function(A){var t,i=new WeakMap,n=new WeakMap,a=new WeakMap,r=new WeakMap,o=new Set;function s(e){if(!(this instanceof s))throw new TypeError(\"Constructor requires 'new' operator\");i.set(this,e)}function h(){throw new TypeError(\"Function is not a constructor\")}function c(e,t,i,n){e=0 in arguments?Number(arguments[0]):0,t=1 in arguments?Number(arguments[1]):0,i=2 in arguments?Number(arguments[2]):0,n=3 in arguments?Number(arguments[3]):0,this.right=(this.x=this.left=e)+(this.width=i),this.bottom=(this.y=this.top=t)+(this.height=n),Object.freeze(this)}function d(){t=requestAnimationFrame(d);var s=new WeakMap,p=new Set;o.forEach((function(t){r.get(t).forEach((function(i){var r=t instanceof window.SVGElement,o=a.get(t),d=r?0:parseFloat(o.paddingTop),f=r?0:parseFloat(o.paddingRight),l=r?0:parseFloat(o.paddingBottom),u=r?0:parseFloat(o.paddingLeft),g=r?0:parseFloat(o.borderTopWidth),m=r?0:parseFloat(o.borderRightWidth),w=r?0:parseFloat(o.borderBottomWidth),b=u+f,F=d+l,v=(r?0:parseFloat(o.borderLeftWidth))+m,W=g+w,y=r?0:t.offsetHeight-W-t.clientHeight,E=r?0:t.offsetWidth-v-t.clientWidth,R=b+v,z=F+W,M=r?t.width:parseFloat(o.width)-R-E,O=r?t.height:parseFloat(o.height)-z-y;if(n.has(t)){var k=n.get(t);if(k[0]===M&&k[1]===O)return}n.set(t,[M,O]);var S=Object.create(h.prototype);S.target=t,S.contentRect=new c(u,d,M,O),s.has(i)||(s.set(i,[]),p.add(i)),s.get(i).push(S)}))})),p.forEach((function(e){i.get(e).call(e,s.get(e),e)}))}return s.prototype.observe=function(i){if(i instanceof window.Element){r.has(i)||(r.set(i,new Set),o.add(i),a.set(i,window.getComputedStyle(i)));var n=r.get(i);n.has(this)||n.add(this),cancelAnimationFrame(t),t=requestAnimationFrame(d)}},s.prototype.unobserve=function(i){if(i instanceof window.Element&&r.has(i)){var n=r.get(i);n.has(this)&&(n.delete(this),n.size||(r.delete(i),o.delete(i))),n.size||r.delete(i),o.size||cancelAnimationFrame(t)}},A.DOMRectReadOnly=c,A.ResizeObserver=s,A.ResizeObserverEntry=h,A}; // eslint-disable-line\n",
       "mpl.toolbar_items = [[\"Home\", \"Reset original view\", \"fa fa-home icon-home\", \"home\"], [\"Back\", \"Back to previous view\", \"fa fa-arrow-left icon-arrow-left\", \"back\"], [\"Forward\", \"Forward to next view\", \"fa fa-arrow-right icon-arrow-right\", \"forward\"], [\"\", \"\", \"\", \"\"], [\"Pan\", \"Left button pans, Right button zooms\\nx/y fixes axis, CTRL fixes aspect\", \"fa fa-arrows icon-move\", \"pan\"], [\"Zoom\", \"Zoom to rectangle\\nx/y fixes axis\", \"fa fa-square-o icon-check-empty\", \"zoom\"], [\"\", \"\", \"\", \"\"], [\"Download\", \"Download plot\", \"fa fa-floppy-o icon-save\", \"download\"]];\n",
       "\n",
       "mpl.extensions = [\"eps\", \"jpeg\", \"pgf\", \"pdf\", \"png\", \"ps\", \"raw\", \"svg\", \"tif\"];\n",
       "\n",
       "mpl.default_extension = \"png\";/* global mpl */\n",
       "\n",
       "var comm_websocket_adapter = function (comm) {\n",
       "    // Create a \"websocket\"-like object which calls the given IPython comm\n",
       "    // object with the appropriate methods. Currently this is a non binary\n",
       "    // socket, so there is still some room for performance tuning.\n",
       "    var ws = {};\n",
       "\n",
       "    ws.binaryType = comm.kernel.ws.binaryType;\n",
       "    ws.readyState = comm.kernel.ws.readyState;\n",
       "    function updateReadyState(_event) {\n",
       "        if (comm.kernel.ws) {\n",
       "            ws.readyState = comm.kernel.ws.readyState;\n",
       "        } else {\n",
       "            ws.readyState = 3; // Closed state.\n",
       "        }\n",
       "    }\n",
       "    comm.kernel.ws.addEventListener('open', updateReadyState);\n",
       "    comm.kernel.ws.addEventListener('close', updateReadyState);\n",
       "    comm.kernel.ws.addEventListener('error', updateReadyState);\n",
       "\n",
       "    ws.close = function () {\n",
       "        comm.close();\n",
       "    };\n",
       "    ws.send = function (m) {\n",
       "        //console.log('sending', m);\n",
       "        comm.send(m);\n",
       "    };\n",
       "    // Register the callback with on_msg.\n",
       "    comm.on_msg(function (msg) {\n",
       "        //console.log('receiving', msg['content']['data'], msg);\n",
       "        var data = msg['content']['data'];\n",
       "        if (data['blob'] !== undefined) {\n",
       "            data = {\n",
       "                data: new Blob(msg['buffers'], { type: data['blob'] }),\n",
       "            };\n",
       "        }\n",
       "        // Pass the mpl event to the overridden (by mpl) onmessage function.\n",
       "        ws.onmessage(data);\n",
       "    });\n",
       "    return ws;\n",
       "};\n",
       "\n",
       "mpl.mpl_figure_comm = function (comm, msg) {\n",
       "    // This is the function which gets called when the mpl process\n",
       "    // starts-up an IPython Comm through the \"matplotlib\" channel.\n",
       "\n",
       "    var id = msg.content.data.id;\n",
       "    // Get hold of the div created by the display call when the Comm\n",
       "    // socket was opened in Python.\n",
       "    var element = document.getElementById(id);\n",
       "    var ws_proxy = comm_websocket_adapter(comm);\n",
       "\n",
       "    function ondownload(figure, _format) {\n",
       "        window.open(figure.canvas.toDataURL());\n",
       "    }\n",
       "\n",
       "    var fig = new mpl.figure(id, ws_proxy, ondownload, element);\n",
       "\n",
       "    // Call onopen now - mpl needs it, as it is assuming we've passed it a real\n",
       "    // web socket which is closed, not our websocket->open comm proxy.\n",
       "    ws_proxy.onopen();\n",
       "\n",
       "    fig.parent_element = element;\n",
       "    fig.cell_info = mpl.find_output_cell(\"<div id='\" + id + \"'></div>\");\n",
       "    if (!fig.cell_info) {\n",
       "        console.error('Failed to find cell for figure', id, fig);\n",
       "        return;\n",
       "    }\n",
       "    fig.cell_info[0].output_area.element.on(\n",
       "        'cleared',\n",
       "        { fig: fig },\n",
       "        fig._remove_fig_handler\n",
       "    );\n",
       "};\n",
       "\n",
       "mpl.figure.prototype.handle_close = function (fig, msg) {\n",
       "    var width = fig.canvas.width / fig.ratio;\n",
       "    fig.cell_info[0].output_area.element.off(\n",
       "        'cleared',\n",
       "        fig._remove_fig_handler\n",
       "    );\n",
       "    fig.resizeObserverInstance.unobserve(fig.canvas_div);\n",
       "\n",
       "    // Update the output cell to use the data from the current canvas.\n",
       "    fig.push_to_output();\n",
       "    var dataURL = fig.canvas.toDataURL();\n",
       "    // Re-enable the keyboard manager in IPython - without this line, in FF,\n",
       "    // the notebook keyboard shortcuts fail.\n",
       "    IPython.keyboard_manager.enable();\n",
       "    fig.parent_element.innerHTML =\n",
       "        '<img src=\"' + dataURL + '\" width=\"' + width + '\">';\n",
       "    fig.close_ws(fig, msg);\n",
       "};\n",
       "\n",
       "mpl.figure.prototype.close_ws = function (fig, msg) {\n",
       "    fig.send_message('closing', msg);\n",
       "    // fig.ws.close()\n",
       "};\n",
       "\n",
       "mpl.figure.prototype.push_to_output = function (_remove_interactive) {\n",
       "    // Turn the data on the canvas into data in the output cell.\n",
       "    var width = this.canvas.width / this.ratio;\n",
       "    var dataURL = this.canvas.toDataURL();\n",
       "    this.cell_info[1]['text/html'] =\n",
       "        '<img src=\"' + dataURL + '\" width=\"' + width + '\">';\n",
       "};\n",
       "\n",
       "mpl.figure.prototype.updated_canvas_event = function () {\n",
       "    // Tell IPython that the notebook contents must change.\n",
       "    IPython.notebook.set_dirty(true);\n",
       "    this.send_message('ack', {});\n",
       "    var fig = this;\n",
       "    // Wait a second, then push the new image to the DOM so\n",
       "    // that it is saved nicely (might be nice to debounce this).\n",
       "    setTimeout(function () {\n",
       "        fig.push_to_output();\n",
       "    }, 1000);\n",
       "};\n",
       "\n",
       "mpl.figure.prototype._init_toolbar = function () {\n",
       "    var fig = this;\n",
       "\n",
       "    var toolbar = document.createElement('div');\n",
       "    toolbar.classList = 'btn-toolbar';\n",
       "    this.root.appendChild(toolbar);\n",
       "\n",
       "    function on_click_closure(name) {\n",
       "        return function (_event) {\n",
       "            return fig.toolbar_button_onclick(name);\n",
       "        };\n",
       "    }\n",
       "\n",
       "    function on_mouseover_closure(tooltip) {\n",
       "        return function (event) {\n",
       "            if (!event.currentTarget.disabled) {\n",
       "                return fig.toolbar_button_onmouseover(tooltip);\n",
       "            }\n",
       "        };\n",
       "    }\n",
       "\n",
       "    fig.buttons = {};\n",
       "    var buttonGroup = document.createElement('div');\n",
       "    buttonGroup.classList = 'btn-group';\n",
       "    var button;\n",
       "    for (var toolbar_ind in mpl.toolbar_items) {\n",
       "        var name = mpl.toolbar_items[toolbar_ind][0];\n",
       "        var tooltip = mpl.toolbar_items[toolbar_ind][1];\n",
       "        var image = mpl.toolbar_items[toolbar_ind][2];\n",
       "        var method_name = mpl.toolbar_items[toolbar_ind][3];\n",
       "\n",
       "        if (!name) {\n",
       "            /* Instead of a spacer, we start a new button group. */\n",
       "            if (buttonGroup.hasChildNodes()) {\n",
       "                toolbar.appendChild(buttonGroup);\n",
       "            }\n",
       "            buttonGroup = document.createElement('div');\n",
       "            buttonGroup.classList = 'btn-group';\n",
       "            continue;\n",
       "        }\n",
       "\n",
       "        button = fig.buttons[name] = document.createElement('button');\n",
       "        button.classList = 'btn btn-default';\n",
       "        button.href = '#';\n",
       "        button.title = name;\n",
       "        button.innerHTML = '<i class=\"fa ' + image + ' fa-lg\"></i>';\n",
       "        button.addEventListener('click', on_click_closure(method_name));\n",
       "        button.addEventListener('mouseover', on_mouseover_closure(tooltip));\n",
       "        buttonGroup.appendChild(button);\n",
       "    }\n",
       "\n",
       "    if (buttonGroup.hasChildNodes()) {\n",
       "        toolbar.appendChild(buttonGroup);\n",
       "    }\n",
       "\n",
       "    // Add the status bar.\n",
       "    var status_bar = document.createElement('span');\n",
       "    status_bar.classList = 'mpl-message pull-right';\n",
       "    toolbar.appendChild(status_bar);\n",
       "    this.message = status_bar;\n",
       "\n",
       "    // Add the close button to the window.\n",
       "    var buttongrp = document.createElement('div');\n",
       "    buttongrp.classList = 'btn-group inline pull-right';\n",
       "    button = document.createElement('button');\n",
       "    button.classList = 'btn btn-mini btn-primary';\n",
       "    button.href = '#';\n",
       "    button.title = 'Stop Interaction';\n",
       "    button.innerHTML = '<i class=\"fa fa-power-off icon-remove icon-large\"></i>';\n",
       "    button.addEventListener('click', function (_evt) {\n",
       "        fig.handle_close(fig, {});\n",
       "    });\n",
       "    button.addEventListener(\n",
       "        'mouseover',\n",
       "        on_mouseover_closure('Stop Interaction')\n",
       "    );\n",
       "    buttongrp.appendChild(button);\n",
       "    var titlebar = this.root.querySelector('.ui-dialog-titlebar');\n",
       "    titlebar.insertBefore(buttongrp, titlebar.firstChild);\n",
       "};\n",
       "\n",
       "mpl.figure.prototype._remove_fig_handler = function (event) {\n",
       "    var fig = event.data.fig;\n",
       "    if (event.target !== this) {\n",
       "        // Ignore bubbled events from children.\n",
       "        return;\n",
       "    }\n",
       "    fig.close_ws(fig, {});\n",
       "};\n",
       "\n",
       "mpl.figure.prototype._root_extra_style = function (el) {\n",
       "    el.style.boxSizing = 'content-box'; // override notebook setting of border-box.\n",
       "};\n",
       "\n",
       "mpl.figure.prototype._canvas_extra_style = function (el) {\n",
       "    // this is important to make the div 'focusable\n",
       "    el.setAttribute('tabindex', 0);\n",
       "    // reach out to IPython and tell the keyboard manager to turn it's self\n",
       "    // off when our div gets focus\n",
       "\n",
       "    // location in version 3\n",
       "    if (IPython.notebook.keyboard_manager) {\n",
       "        IPython.notebook.keyboard_manager.register_events(el);\n",
       "    } else {\n",
       "        // location in version 2\n",
       "        IPython.keyboard_manager.register_events(el);\n",
       "    }\n",
       "};\n",
       "\n",
       "mpl.figure.prototype._key_event_extra = function (event, _name) {\n",
       "    // Check for shift+enter\n",
       "    if (event.shiftKey && event.which === 13) {\n",
       "        this.canvas_div.blur();\n",
       "        // select the cell after this one\n",
       "        var index = IPython.notebook.find_cell_index(this.cell_info[0]);\n",
       "        IPython.notebook.select(index + 1);\n",
       "    }\n",
       "};\n",
       "\n",
       "mpl.figure.prototype.handle_save = function (fig, _msg) {\n",
       "    fig.ondownload(fig, null);\n",
       "};\n",
       "\n",
       "mpl.find_output_cell = function (html_output) {\n",
       "    // Return the cell and output element which can be found *uniquely* in the notebook.\n",
       "    // Note - this is a bit hacky, but it is done because the \"notebook_saving.Notebook\"\n",
       "    // IPython event is triggered only after the cells have been serialised, which for\n",
       "    // our purposes (turning an active figure into a static one), is too late.\n",
       "    var cells = IPython.notebook.get_cells();\n",
       "    var ncells = cells.length;\n",
       "    for (var i = 0; i < ncells; i++) {\n",
       "        var cell = cells[i];\n",
       "        if (cell.cell_type === 'code') {\n",
       "            for (var j = 0; j < cell.output_area.outputs.length; j++) {\n",
       "                var data = cell.output_area.outputs[j];\n",
       "                if (data.data) {\n",
       "                    // IPython >= 3 moved mimebundle to data attribute of output\n",
       "                    data = data.data;\n",
       "                }\n",
       "                if (data['text/html'] === html_output) {\n",
       "                    return [cell, data, j];\n",
       "                }\n",
       "            }\n",
       "        }\n",
       "    }\n",
       "};\n",
       "\n",
       "// Register the function which deals with the matplotlib target/channel.\n",
       "// The kernel may be null if the page has been refreshed.\n",
       "if (IPython.notebook.kernel !== null) {\n",
       "    IPython.notebook.kernel.comm_manager.register_target(\n",
       "        'matplotlib',\n",
       "        mpl.mpl_figure_comm\n",
       "    );\n",
       "}\n"
      ],
      "text/plain": [
       "<IPython.core.display.Javascript object>"
      ]
     },
     "metadata": {},
     "output_type": "display_data"
    },
    {
     "data": {
      "text/html": [
       "<img src=\"data:image/png;base64,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\" width=\"1000\">"
      ],
      "text/plain": [
       "<IPython.core.display.HTML object>"
      ]
     },
     "metadata": {},
     "output_type": "display_data"
    },
    {
     "data": {
      "application/vnd.jupyter.widget-view+json": {
       "model_id": "5e76c8aca80644c6b7d63ee98b09d738",
       "version_major": 2,
       "version_minor": 0
      },
      "text/plain": [
       "interactive(children=(Text(value='O', description='Element:', placeholder=\"Nom de l'element\"), BoundedFloatTex…"
      ]
     },
     "metadata": {},
     "output_type": "display_data"
    }
   ],
   "source": [
    "def extract(x):\n",
    "    global extract_n\n",
    "    extract_n = df.loc[df['Element'] == x]\n",
    "    return\n",
    "\n",
    "\n",
    "\n",
    "def heaviest_isotop(df, y, element):\n",
    "    out = widgets.Output()\n",
    "    if not df.empty:\n",
    "        string = 'La predicció per l\\'isòtop de {} més pesat és un nucli amb A = '.format(element)\n",
    "        array = y[len(y)//2:]\n",
    "        absolut_array = np.abs(array-0)\n",
    "        closest_value = absolut_array.argmin()\n",
    "        closest_element = array[closest_value]\n",
    "        with out:\n",
    "            display('{}{} Nucleons'.format(string, A[closest_value+len(y)//2 ]))\n",
    "    grid[0,0] = out\n",
    "    return\n",
    "\n",
    "fig, ax = plt.subplots(nrows=1, figsize=(10,4))\n",
    "plt.suptitle('Gràfica 3')\n",
    "style = {'description_width': '200px'}\n",
    "layout = widgets.Layout(width='300px') \n",
    "\n",
    "def update_plot(element, av, aS, ac, aA, ap, checkbox):\n",
    "    global A, y, df\n",
    "    '''\n",
    "    this function is linked to the slider and\n",
    "    it replots the binding energy by nucleon when the slider are changed\n",
    "    '''\n",
    "    df = pd.read_fwf('https://raw.githubusercontent.com/arnaurios/Divulgacio_Outreach/main/mass_1.mas20.txt',    \n",
    "                 usecols=(2, 3, 4, 6, 11),\n",
    "                 names=['N', 'Z', 'A', 'Element', 'Experimental'],\n",
    "                 widths=(1,3,5,5,5,1,3,4,1,14,12,13,1,10,1,2,13,11,1,3,1,13,12,1),\n",
    "                 header=28, \n",
    "                 index_col=False)\n",
    "    df['Experimental'] = pd.to_numeric(df.Experimental.str.replace('#',''))\n",
    "    extract(element)\n",
    "    df = extract_n\n",
    "    df.reset_index(drop=True, inplace=True) \n",
    "    if not df.empty:\n",
    "        Z = df.at[0, 'Z']\n",
    "    else:\n",
    "        Z=0\n",
    "    A = np.linspace(1, 9 * Z, 9 * Z, dtype=int)\n",
    "    ax.clear()\n",
    "    plt.axhline(0, color='black')\n",
    "    y = (av*A-aS*pow(A,2/3)-ac*pow(Z,2)*pow(A,-1/3)-aA*pow(A-2*Z,2)/A + ((A % 2)==0) * ap/np.sqrt(A))*1000/A\n",
    "    extract_n.plot(x='A',y='Experimental', marker='s', linestyle = 'None', ax=ax)\n",
    "    ax.plot(A, y, label='Teòrica')\n",
    "    ax.legend(loc=1)\n",
    "    ax.set_xlabel('Nombre de massa (A)')\n",
    "    ax.set_ylabel('$Energia \\ d\\'enllaç \\ BE/A$ (keV)')\n",
    "    ax.set_xlim(0, )\n",
    "    ax.set_ylim(-2000, 10000)\n",
    "    ax.grid(color = 'gray', linestyle = '--', linewidth = 0.5)\n",
    "    plt.show()\n",
    "    heaviest_isotop(df, y, element)\n",
    "    return\n",
    "\n",
    "\n",
    "element = widgets.Text(\n",
    "          value='O',\n",
    "          placeholder='Nom de l\\'element',\n",
    "          description='Element:',\n",
    "          disabled=False\n",
    "          )\n",
    "\n",
    "av = widgets.BoundedFloatText(value=16, \n",
    "                              min=0, \n",
    "                              max=20, \n",
    "                              step=0.1, \n",
    "                              description='$a_V$, Volum:', \n",
    "                              disabled=False,\n",
    "                              style=style,\n",
    "                              layout=layout)\n",
    "\n",
    "aS = widgets.BoundedFloatText(value=18.3, \n",
    "                              min=0, \n",
    "                              max=20, \n",
    "                              step=0.1, \n",
    "                              description='$a_S$, Superfície:', \n",
    "                              disabled=True,\n",
    "                              style=style,\n",
    "                              layout=layout)\n",
    "\n",
    "ac = widgets.BoundedFloatText(value=0.714, \n",
    "                              min=0, \n",
    "                              max=20, \n",
    "                              step=0.1, \n",
    "                              description='$a_C$, Coulomb:', \n",
    "                              disabled=True,\n",
    "                              style=style,\n",
    "                              layout=layout)\n",
    "\n",
    "aA = widgets.BoundedFloatText(value=23, \n",
    "                              min=0, \n",
    "                              max=50, \n",
    "                              step=0.1, \n",
    "                              description='$a_A$, Asimetria:', \n",
    "                              disabled=False,\n",
    "                              style=style,\n",
    "                              layout=layout)\n",
    "\n",
    "ap = widgets.BoundedFloatText(value=12, \n",
    "                              min=0, \n",
    "                              max=20, \n",
    "                              step=0.1, \n",
    "                              description='$a_P$, Aparellament:', \n",
    "                              disabled=True,\n",
    "                              style=style,\n",
    "                              layout=layout)\n",
    "\n",
    "checkbox = widgets.Checkbox(\n",
    "                            value=False,\n",
    "                            description='Bloqueja / Desbloqueja Parametres',\n",
    "                            disabled=False,\n",
    "                            indent=False\n",
    "                            )\n",
    "\n",
    "link1 = widgets.link((aS, 'disabled'), (checkbox, 'value'))\n",
    "link2 = widgets.link((ac, 'disabled'), (checkbox, 'value'))\n",
    "link3 = widgets.link((ap, 'disabled'), (checkbox, 'value'))\n",
    "\n",
    "grid = widgets.GridspecLayout(1,1, height='auto')\n",
    "widgets.interactive(update_plot, element=element, av=av, aS=aS, ac=ac, aA=aA, ap=ap, checkbox=checkbox)"
   ]
  },
  {
   "cell_type": "markdown",
   "id": "charming-litigation",
   "metadata": {},
   "source": [
    "En aquesta segona part del repte, fem servir els paràmetres del model de l’***Activitat 1*** per predir les propietats dels isòtops d’oxigen encara no descoberts.\n",
    "\n",
    "* Les tasques es mostren a continuació en *cursiva*.  \n",
    "* Les respostes a les preguntes amb una (<font color='red'>Q</font>) al costat es demanen al qüestionari de l'activitat (el pots trobar a https://forms.office.com/r/rDDD2RRTik).\n",
    "\n",
    "#### Activitat 2a\n",
    "\n",
    "(<font color='red'>Q</font>) Quin és l’isòtop d’oxigen més pesat amb una energia d'enllaç positiva?\n",
    "\n",
    "*Introduïu els valors dels termes de volum i asimetria. El programa calcularà immediatament l’isòtop d’oxigen més pesat i us en  proporcionarà el valor.*"
   ]
  },
  {
   "cell_type": "code",
   "execution_count": 3,
   "id": "further-tribune",
   "metadata": {},
   "outputs": [
    {
     "data": {
      "application/vnd.jupyter.widget-view+json": {
       "model_id": "f7b511c68c0f45799742074558f55bd3",
       "version_major": 2,
       "version_minor": 0
      },
      "text/plain": [
       "GridspecLayout(children=(Output(layout=Layout(grid_area='widget001')),), layout=Layout(grid_template_areas='\"w…"
      ]
     },
     "metadata": {},
     "output_type": "display_data"
    }
   ],
   "source": [
    "grid"
   ]
  },
  {
   "cell_type": "markdown",
   "id": "cheap-indiana",
   "metadata": {},
   "source": [
    "El valor proporcionat aquí és aquell en que l'energia d'enllaç del MGL de la ***Gràfica 3*** intersecta amb l'eix de les abcisas. Per tal que un nucli pugui existir i no decaigui espontàniament en les partícules que el conformen, ha de tenir una energia d'enllaç $E/A$ positiva!\n",
    "\n",
    "#### Activitat 2b\n",
    "\n",
    "Avaluació de la incertesa en el terme d’asimetria.\n",
    "\n",
    "*Si suposem que, per a la constant de terme d’asimetria $a_A$, tots els valors de l'interval entre $20$ i $25$ MeV són possibles (mantenint el terme de volum $a_V$ amb el valor que heu trobat anteriorment), busqueu el rang de prediccions per a l’isòtop d’oxigen més pesat amb una energia d’enllaç positiva. Introduïu les vostres respostes als requadres següents i discutiu el significat d'aquest rang.*"
   ]
  },
  {
   "cell_type": "code",
   "execution_count": 4,
   "id": "surgical-frank",
   "metadata": {},
   "outputs": [
    {
     "data": {
      "application/vnd.jupyter.widget-view+json": {
       "model_id": "93c4a96bc09d4e19a3eee8041ca95ab5",
       "version_major": 2,
       "version_minor": 0
      },
      "text/plain": [
       "BoundedFloatText(value=16.0, description='$a_S$, Volum:', layout=Layout(width='300px'), max=20.0, step=0.1, st…"
      ]
     },
     "metadata": {},
     "output_type": "display_data"
    },
    {
     "data": {
      "application/vnd.jupyter.widget-view+json": {
       "model_id": "6caa541ec71d4ca1a9e033fea0493613",
       "version_major": 2,
       "version_minor": 0
      },
      "text/plain": [
       "BoundedFloatText(value=23.0, description='$a_A$, Asimetria:', layout=Layout(width='300px'), max=50.0, step=0.1…"
      ]
     },
     "metadata": {},
     "output_type": "display_data"
    },
    {
     "data": {
      "application/vnd.jupyter.widget-view+json": {
       "model_id": "e5a31761d2fd4b7db2ff16bdb2676d7e",
       "version_major": 2,
       "version_minor": 0
      },
      "text/plain": [
       "HBox(children=(Text(value='', description=\"El rang (en nucleons) de l'isotop més pesat va de:\", layout=Layout(…"
      ]
     },
     "metadata": {},
     "output_type": "display_data"
    }
   ],
   "source": [
    "box_1 = widgets.Text(\n",
    "                     value='',\n",
    "                     description='El rang (en nucleons) de l\\'isotop més pesat va de:',\n",
    "                     disabled=False,\n",
    "                     style={'description_width': '300px'},\n",
    "                     layout=widgets.Layout(width='350px') \n",
    "                     )\n",
    "box_2 = widgets.Text(\n",
    "                     value='',\n",
    "                     description='fins a',\n",
    "                     disabled=False,\n",
    "                     style={'description_width': '50px'},\n",
    "                     layout=widgets.Layout(width='100px') \n",
    "                     )\n",
    "display(av,aA,widgets.HBox([box_1, box_2]))"
   ]
  },
  {
   "cell_type": "markdown",
   "id": "considered-gnome",
   "metadata": {},
   "source": [
    "#### Activitat 2c\n",
    "\n",
    "Avaluació de la incertesa en el terme del volum.\n",
    "\n",
    "*Si suposem que, per a la constant terme de volum $a_V$, tos els valors de l'interval entre $15$ i $17$ MeV són possibles (mantenint el terme d'asimetria amb el valor que heu trobat anteriorment), busqueu el rang de prediccions per a l’isòtop d’oxigen més pesat amb una energia d'enllaç positiva. Introduïu les vostres respostes als requadres següents i discutiu el significat d'aquest rang.*"
   ]
  },
  {
   "cell_type": "code",
   "execution_count": 5,
   "id": "electrical-memory",
   "metadata": {},
   "outputs": [
    {
     "data": {
      "application/vnd.jupyter.widget-view+json": {
       "model_id": "93c4a96bc09d4e19a3eee8041ca95ab5",
       "version_major": 2,
       "version_minor": 0
      },
      "text/plain": [
       "BoundedFloatText(value=16.0, description='$a_S$, Volum:', layout=Layout(width='300px'), max=20.0, step=0.1, st…"
      ]
     },
     "metadata": {},
     "output_type": "display_data"
    },
    {
     "data": {
      "application/vnd.jupyter.widget-view+json": {
       "model_id": "6caa541ec71d4ca1a9e033fea0493613",
       "version_major": 2,
       "version_minor": 0
      },
      "text/plain": [
       "BoundedFloatText(value=23.0, description='$a_A$, Asimetria:', layout=Layout(width='300px'), max=50.0, step=0.1…"
      ]
     },
     "metadata": {},
     "output_type": "display_data"
    },
    {
     "data": {
      "application/vnd.jupyter.widget-view+json": {
       "model_id": "ec65de2b44a849f2934477a60957e4be",
       "version_major": 2,
       "version_minor": 0
      },
      "text/plain": [
       "HBox(children=(Text(value='', description=\"El rang (en nucleons) de l'isotop més pesat va de:\", layout=Layout(…"
      ]
     },
     "metadata": {},
     "output_type": "display_data"
    }
   ],
   "source": [
    "box_1 = widgets.Text(\n",
    "                     value='',\n",
    "                     description='El rang (en nucleons) de l\\'isotop més pesat va de:',\n",
    "                     disabled=False,\n",
    "                     style={'description_width': '300px'},\n",
    "                     layout=widgets.Layout(width='350px') \n",
    "                     )\n",
    "box_2 = widgets.Text(\n",
    "                     value='',\n",
    "                     description='fins a',\n",
    "                     disabled=False,\n",
    "                     style={'description_width': '50px'},\n",
    "                     layout=widgets.Layout(width='100px') \n",
    "                     )\n",
    "display(av,aA,widgets.HBox([box_1, box_2]))"
   ]
  },
  {
   "cell_type": "markdown",
   "id": "sustained-housing",
   "metadata": {},
   "source": [
    "##### Bravo per haver completar aquesta activitat! Ara aneu a la següent activitat [Activitat 3, Massa Mínima d'una Estrella de Neutrons](./MGL3_Estrella_Neutrons_Massa_Minima.ipynb)."
   ]
  },
  {
   "cell_type": "code",
   "execution_count": 6,
   "id": "collect-variance",
   "metadata": {},
   "outputs": [
    {
     "data": {
      "text/html": [
       "<script>\n",
       "code_show=true; \n",
       "function code_toggle() {\n",
       " if (code_show){\n",
       " $('div.input').hide();\n",
       " } else {\n",
       " $('div.input').show();\n",
       " }\n",
       " code_show = !code_show\n",
       "} \n",
       "$( document ).ready(code_toggle);\n",
       "</script>\n",
       "<form action=\"javascript:code_toggle()\"><input type=\"submit\" value=\"Click here to toggle on/off the raw code.\"></form>"
      ],
      "text/plain": [
       "<IPython.core.display.HTML object>"
      ]
     },
     "execution_count": 6,
     "metadata": {},
     "output_type": "execute_result"
    }
   ],
   "source": [
    "from IPython.display import HTML\n",
    "\n",
    "HTML('''<script>\n",
    "code_show=true; \n",
    "function code_toggle() {\n",
    " if (code_show){\n",
    " $('div.input').hide();\n",
    " } else {\n",
    " $('div.input').show();\n",
    " }\n",
    " code_show = !code_show\n",
    "} \n",
    "$( document ).ready(code_toggle);\n",
    "</script>\n",
    "<form action=\"javascript:code_toggle()\"><input type=\"submit\" value=\"Click here to toggle on/off the raw code.\"></form>''')"
   ]
  },
  {
   "cell_type": "code",
   "execution_count": null,
   "id": "enormous-terrace",
   "metadata": {},
   "outputs": [],
   "source": []
  }
 ],
 "metadata": {
  "kernelspec": {
   "display_name": "Python 3 (ipykernel)",
   "language": "python",
   "name": "python3"
  },
  "language_info": {
   "codemirror_mode": {
    "name": "ipython",
    "version": 3
   },
   "file_extension": ".py",
   "mimetype": "text/x-python",
   "name": "python",
   "nbconvert_exporter": "python",
   "pygments_lexer": "ipython3",
   "version": "3.9.14"
  },
  "widgets": {
   "application/vnd.jupyter.widget-state+json": {
    "state": {
     "052c51d251894701964a848d59a147d6": {
      "model_module": "@jupyter-widgets/controls",
      "model_module_version": "1.5.0",
      "model_name": "HBoxModel",
      "state": {
       "children": [
        "IPY_MODEL_99d99a7469e14755ab975265516e49ab",
        "IPY_MODEL_daa73485974344cf8cddae0474b74b1e"
       ],
       "layout": "IPY_MODEL_f146c9cbbfe943aaab33f748ec4a380b"
      }
     },
     "0a5a01fe0da04e4f9e623d50323373b7": {
      "model_module": "@jupyter-widgets/controls",
      "model_module_version": "1.5.0",
      "model_name": "TextModel",
      "state": {
       "description": "fins a",
       "layout": "IPY_MODEL_d71cfef46eca4ce093ee8d9bd7578cc3",
       "style": "IPY_MODEL_efa976f964fd4209ade08663c57b609b"
      }
     },
     "16aa750fd5994c02860059bd030bcf1b": {
      "model_module": "@jupyter-widgets/controls",
      "model_module_version": "1.5.0",
      "model_name": "TextModel",
      "state": {
       "description": "Element:",
       "layout": "IPY_MODEL_7b8780d61d794bc083cb28b33e08b65d",
       "placeholder": "Nom de l'element",
       "style": "IPY_MODEL_baf74ca754034c8aaa6526c985c38ded",
       "value": "Sn"
      }
     },
     "1d25eabc6a3d43cdb244226132002d34": {
      "model_module": "@jupyter-widgets/base",
      "model_module_version": "1.2.0",
      "model_name": "LayoutModel",
      "state": {
       "grid_area": "widget001"
      }
     },
     "33b730df1fad488bafe4fbd850d74a99": {
      "model_module": "@jupyter-widgets/base",
      "model_module_version": "1.2.0",
      "model_name": "LayoutModel",
      "state": {
       "width": "350px"
      }
     },
     "389339a9fe4b43dfb74600c32e43556a": {
      "model_module": "@jupyter-widgets/base",
      "model_module_version": "1.2.0",
      "model_name": "LayoutModel",
      "state": {}
     },
     "4217be0832ba4f918294008e0e3a552d": {
      "model_module": "@jupyter-widgets/base",
      "model_module_version": "1.2.0",
      "model_name": "LayoutModel",
      "state": {
       "width": "300px"
      }
     },
     "43d736dc962c4a4c8372092b9c5e4f2a": {
      "model_module": "@jupyter-widgets/base",
      "model_module_version": "1.2.0",
      "model_name": "LayoutModel",
      "state": {}
     },
     "468e223e8f254ebe8c2c15d9fce1f0e6": {
      "model_module": "@jupyter-widgets/controls",
      "model_module_version": "1.5.0",
      "model_name": "DescriptionStyleModel",
      "state": {
       "description_width": "50px"
      }
     },
     "4fee8895bec945bdac3107b513db66eb": {
      "model_module": "@jupyter-widgets/controls",
      "model_module_version": "1.5.0",
      "model_name": "BoundedFloatTextModel",
      "state": {
       "description": "Coulomb:",
       "disabled": true,
       "layout": "IPY_MODEL_4217be0832ba4f918294008e0e3a552d",
       "max": 20,
       "style": "IPY_MODEL_d66a1c1b8d7b42fe97474fe783d25cbe",
       "value": 0.714
      }
     },
     "57fc59c5cd89442c911918668e16d209": {
      "model_module": "@jupyter-widgets/output",
      "model_module_version": "1.0.0",
      "model_name": "OutputModel",
      "state": {
       "layout": "IPY_MODEL_e2e8772ff63d435191473af7f42beb8c",
       "outputs": [
        {
         "data": {
          "text/plain": "\"La predicció per l'isòtop de P més pesat és un nucli amb A = 106 Nucleons\""
         },
         "metadata": {},
         "output_type": "display_data"
        }
       ]
      }
     },
     "5a27b45e26d643508ac4b3f53cdd7b40": {
      "model_module": "@jupyter-widgets/output",
      "model_module_version": "1.0.0",
      "model_name": "OutputModel",
      "state": {
       "layout": "IPY_MODEL_ae52452bd26d4f0387e7b6e877c113e9",
       "outputs": [
        {
         "data": {
          "text/plain": "\"La predicció per l'isòtop de Sn més pesat és un nucli amb A = 399 Nucleons\""
         },
         "metadata": {},
         "output_type": "display_data"
        }
       ]
      }
     },
     "7b8780d61d794bc083cb28b33e08b65d": {
      "model_module": "@jupyter-widgets/base",
      "model_module_version": "1.2.0",
      "model_name": "LayoutModel",
      "state": {}
     },
     "803f7ece115f43e292d85bceb57348e7": {
      "model_module": "@jupyter-widgets/controls",
      "model_module_version": "1.5.0",
      "model_name": "DescriptionStyleModel",
      "state": {
       "description_width": "200px"
      }
     },
     "85d6db6bb22341c1859060b45a3f9c7e": {
      "model_module": "@jupyter-widgets/base",
      "model_module_version": "1.2.0",
      "model_name": "LayoutModel",
      "state": {}
     },
     "8fad1295d6104f0a8b6aa9cdfcfbc7d1": {
      "model_module": "@jupyter-widgets/controls",
      "model_module_version": "1.5.0",
      "model_name": "BoundedFloatTextModel",
      "state": {
       "description": "Superficie:",
       "disabled": true,
       "layout": "IPY_MODEL_4217be0832ba4f918294008e0e3a552d",
       "max": 20,
       "style": "IPY_MODEL_ec7a2f37bab741228669789fd19e7973",
       "value": 18.3
      }
     },
     "92613c6168bc401f8e47251212ffd6a8": {
      "model_module": "@jupyter-widgets/controls",
      "model_module_version": "1.5.0",
      "model_name": "GridBoxModel",
      "state": {
       "children": [
        "IPY_MODEL_5a27b45e26d643508ac4b3f53cdd7b40"
       ],
       "layout": "IPY_MODEL_b0f78131f2e74f7f837b0b706b62e7e9"
      }
     },
     "99d99a7469e14755ab975265516e49ab": {
      "model_module": "@jupyter-widgets/controls",
      "model_module_version": "1.5.0",
      "model_name": "TextModel",
      "state": {
       "description": "El rang (en nucleons) de l'isotop més pesat va de:",
       "layout": "IPY_MODEL_33b730df1fad488bafe4fbd850d74a99",
       "style": "IPY_MODEL_dcd32160b136440d95956e6c74565878"
      }
     },
     "9ba6b9349ec34ed1bd71889091786dfc": {
      "model_module": "@jupyter-widgets/output",
      "model_module_version": "1.0.0",
      "model_name": "OutputModel",
      "state": {
       "layout": "IPY_MODEL_c8ad24315d104fa8a9f10e6c38ff34f4",
       "outputs": [
        {
         "data": {
          "text/plain": "\"La predicció per l'isòtop de S més pesat és un nucli amb A = 114 Nucleons\""
         },
         "metadata": {},
         "output_type": "display_data"
        }
       ]
      }
     },
     "ae52452bd26d4f0387e7b6e877c113e9": {
      "model_module": "@jupyter-widgets/base",
      "model_module_version": "1.2.0",
      "model_name": "LayoutModel",
      "state": {
       "grid_area": "widget005"
      }
     },
     "b0f78131f2e74f7f837b0b706b62e7e9": {
      "model_module": "@jupyter-widgets/base",
      "model_module_version": "1.2.0",
      "model_name": "LayoutModel",
      "state": {
       "grid_template_areas": "\"widget005\"",
       "grid_template_columns": "repeat(1, 1fr)",
       "grid_template_rows": "repeat(1, 1fr)",
       "height": "auto"
      }
     },
     "b6f0687f82dc487894f9fc282a71bbb1": {
      "model_module": "@jupyter-widgets/controls",
      "model_module_version": "1.5.0",
      "model_name": "VBoxModel",
      "state": {
       "_dom_classes": [
        "widget-interact"
       ],
       "children": [
        "IPY_MODEL_16aa750fd5994c02860059bd030bcf1b",
        "IPY_MODEL_f2898d9d7cfc43239af52a0d8737c0f1",
        "IPY_MODEL_8fad1295d6104f0a8b6aa9cdfcfbc7d1",
        "IPY_MODEL_4fee8895bec945bdac3107b513db66eb",
        "IPY_MODEL_f6e725e53a9d40feb6c74227b39ff8d0",
        "IPY_MODEL_b8a9e3ce2e8443bfb79c7db12d5fffbe",
        "IPY_MODEL_cad8d3a0ade74410b84c3e8df74a9324",
        "IPY_MODEL_e2bfb897b764452b9accfbd16f4053af"
       ],
       "layout": "IPY_MODEL_85d6db6bb22341c1859060b45a3f9c7e"
      }
     },
     "b82362636dff4c5c9e5a4dd21773514d": {
      "model_module": "@jupyter-widgets/output",
      "model_module_version": "1.0.0",
      "model_name": "OutputModel",
      "state": {
       "layout": "IPY_MODEL_fef3523773504312b26cde8df6fc8b96",
       "outputs": [
        {
         "data": {
          "text/plain": "\"La predicció per l'isòtop de Pb més pesat és un nucli amb A = 667 Nucleons\""
         },
         "metadata": {},
         "output_type": "display_data"
        }
       ]
      }
     },
     "b8a9e3ce2e8443bfb79c7db12d5fffbe": {
      "model_module": "@jupyter-widgets/controls",
      "model_module_version": "1.5.0",
      "model_name": "BoundedFloatTextModel",
      "state": {
       "description": "Emparellament:",
       "disabled": true,
       "layout": "IPY_MODEL_4217be0832ba4f918294008e0e3a552d",
       "max": 20,
       "style": "IPY_MODEL_803f7ece115f43e292d85bceb57348e7",
       "value": 12
      }
     },
     "baf74ca754034c8aaa6526c985c38ded": {
      "model_module": "@jupyter-widgets/controls",
      "model_module_version": "1.5.0",
      "model_name": "DescriptionStyleModel",
      "state": {
       "description_width": ""
      }
     },
     "bcdffd90d3f240c190871c9b05ba6896": {
      "model_module": "@jupyter-widgets/controls",
      "model_module_version": "1.5.0",
      "model_name": "DescriptionStyleModel",
      "state": {
       "description_width": "300px"
      }
     },
     "c8ad24315d104fa8a9f10e6c38ff34f4": {
      "model_module": "@jupyter-widgets/base",
      "model_module_version": "1.2.0",
      "model_name": "LayoutModel",
      "state": {
       "grid_area": "widget004"
      }
     },
     "cad8d3a0ade74410b84c3e8df74a9324": {
      "model_module": "@jupyter-widgets/controls",
      "model_module_version": "1.5.0",
      "model_name": "CheckboxModel",
      "state": {
       "description": "Bloqueja / Desbloqueja Parametres",
       "disabled": false,
       "indent": false,
       "layout": "IPY_MODEL_389339a9fe4b43dfb74600c32e43556a",
       "style": "IPY_MODEL_f3624c8b1a324636a76470dd34d808de",
       "value": true
      }
     },
     "d66a1c1b8d7b42fe97474fe783d25cbe": {
      "model_module": "@jupyter-widgets/controls",
      "model_module_version": "1.5.0",
      "model_name": "DescriptionStyleModel",
      "state": {
       "description_width": "200px"
      }
     },
     "d71cfef46eca4ce093ee8d9bd7578cc3": {
      "model_module": "@jupyter-widgets/base",
      "model_module_version": "1.2.0",
      "model_name": "LayoutModel",
      "state": {
       "width": "100px"
      }
     },
     "d7d9754aa3bf481f9b327d621757292c": {
      "model_module": "@jupyter-widgets/base",
      "model_module_version": "1.2.0",
      "model_name": "LayoutModel",
      "state": {
       "width": "350px"
      }
     },
     "daa73485974344cf8cddae0474b74b1e": {
      "model_module": "@jupyter-widgets/controls",
      "model_module_version": "1.5.0",
      "model_name": "TextModel",
      "state": {
       "description": "fins a",
       "layout": "IPY_MODEL_f4a717e830fb4ec3b466d89c8c8f8243",
       "style": "IPY_MODEL_468e223e8f254ebe8c2c15d9fce1f0e6"
      }
     },
     "dcd32160b136440d95956e6c74565878": {
      "model_module": "@jupyter-widgets/controls",
      "model_module_version": "1.5.0",
      "model_name": "DescriptionStyleModel",
      "state": {
       "description_width": "300px"
      }
     },
     "dd9c634bc5974c8783c97533bc66aae5": {
      "model_module": "@jupyter-widgets/controls",
      "model_module_version": "1.5.0",
      "model_name": "HBoxModel",
      "state": {
       "children": [
        "IPY_MODEL_e5d9feb1aa9246e3b7309100f9bc81b0",
        "IPY_MODEL_0a5a01fe0da04e4f9e623d50323373b7"
       ],
       "layout": "IPY_MODEL_f358b86642164ce49629fe55181f04d5"
      }
     },
     "df722d7527664d4bb6f9e694b14a687d": {
      "model_module": "@jupyter-widgets/controls",
      "model_module_version": "1.5.0",
      "model_name": "DescriptionStyleModel",
      "state": {
       "description_width": "200px"
      }
     },
     "e2bfb897b764452b9accfbd16f4053af": {
      "model_module": "@jupyter-widgets/output",
      "model_module_version": "1.0.0",
      "model_name": "OutputModel",
      "state": {
       "layout": "IPY_MODEL_43d736dc962c4a4c8372092b9c5e4f2a",
       "outputs": [
        {
         "data": {
          "application/javascript": "/* Put everything inside the global mpl namespace */\n/* global mpl */\nwindow.mpl = {};\n\nmpl.get_websocket_type = function () {\n    if (typeof WebSocket !== 'undefined') {\n        return WebSocket;\n    } else if (typeof MozWebSocket !== 'undefined') {\n        return MozWebSocket;\n    } else {\n        alert(\n            'Your browser does not have WebSocket support. ' +\n                'Please try Chrome, Safari or Firefox ≥ 6. ' +\n                'Firefox 4 and 5 are also supported but you ' +\n                'have to enable WebSockets in about:config.'\n        );\n    }\n};\n\nmpl.figure = function (figure_id, websocket, ondownload, parent_element) {\n    this.id = figure_id;\n\n    this.ws = websocket;\n\n    this.supports_binary = this.ws.binaryType !== undefined;\n\n    if (!this.supports_binary) {\n        var warnings = document.getElementById('mpl-warnings');\n        if (warnings) {\n            warnings.style.display = 'block';\n            warnings.textContent =\n                'This browser does not support binary websocket messages. ' +\n                'Performance may be slow.';\n        }\n    }\n\n    this.imageObj = new Image();\n\n    this.context = undefined;\n    this.message = undefined;\n    this.canvas = undefined;\n    this.rubberband_canvas = undefined;\n    this.rubberband_context = undefined;\n    this.format_dropdown = undefined;\n\n    this.image_mode = 'full';\n\n    this.root = document.createElement('div');\n    this.root.setAttribute('style', 'display: inline-block');\n    this._root_extra_style(this.root);\n\n    parent_element.appendChild(this.root);\n\n    this._init_header(this);\n    this._init_canvas(this);\n    this._init_toolbar(this);\n\n    var fig = this;\n\n    this.waiting = false;\n\n    this.ws.onopen = function () {\n        fig.send_message('supports_binary', { value: fig.supports_binary });\n        fig.send_message('send_image_mode', {});\n        if (fig.ratio !== 1) {\n            fig.send_message('set_device_pixel_ratio', {\n                device_pixel_ratio: fig.ratio,\n            });\n        }\n        fig.send_message('refresh', {});\n    };\n\n    this.imageObj.onload = function () {\n        if (fig.image_mode === 'full') {\n            // Full images could contain transparency (where diff images\n            // almost always do), so we need to clear the canvas so that\n            // there is no ghosting.\n            fig.context.clearRect(0, 0, fig.canvas.width, fig.canvas.height);\n        }\n        fig.context.drawImage(fig.imageObj, 0, 0);\n    };\n\n    this.imageObj.onunload = function () {\n        fig.ws.close();\n    };\n\n    this.ws.onmessage = this._make_on_message_function(this);\n\n    this.ondownload = ondownload;\n};\n\nmpl.figure.prototype._init_header = function () {\n    var titlebar = document.createElement('div');\n    titlebar.classList =\n        'ui-dialog-titlebar ui-widget-header ui-corner-all ui-helper-clearfix';\n    var titletext = document.createElement('div');\n    titletext.classList = 'ui-dialog-title';\n    titletext.setAttribute(\n        'style',\n        'width: 100%; text-align: center; padding: 3px;'\n    );\n    titlebar.appendChild(titletext);\n    this.root.appendChild(titlebar);\n    this.header = titletext;\n};\n\nmpl.figure.prototype._canvas_extra_style = function (_canvas_div) {};\n\nmpl.figure.prototype._root_extra_style = function (_canvas_div) {};\n\nmpl.figure.prototype._init_canvas = function () {\n    var fig = this;\n\n    var canvas_div = (this.canvas_div = document.createElement('div'));\n    canvas_div.setAttribute(\n        'style',\n        'border: 1px solid #ddd;' +\n            'box-sizing: content-box;' +\n            'clear: both;' +\n            'min-height: 1px;' +\n            'min-width: 1px;' +\n            'outline: 0;' +\n            'overflow: hidden;' +\n            'position: relative;' +\n            'resize: both;'\n    );\n\n    function on_keyboard_event_closure(name) {\n        return function (event) {\n            return fig.key_event(event, name);\n        };\n    }\n\n    canvas_div.addEventListener(\n        'keydown',\n        on_keyboard_event_closure('key_press')\n    );\n    canvas_div.addEventListener(\n        'keyup',\n        on_keyboard_event_closure('key_release')\n    );\n\n    this._canvas_extra_style(canvas_div);\n    this.root.appendChild(canvas_div);\n\n    var canvas = (this.canvas = document.createElement('canvas'));\n    canvas.classList.add('mpl-canvas');\n    canvas.setAttribute('style', 'box-sizing: content-box;');\n\n    this.context = canvas.getContext('2d');\n\n    var backingStore =\n        this.context.backingStorePixelRatio ||\n        this.context.webkitBackingStorePixelRatio ||\n        this.context.mozBackingStorePixelRatio ||\n        this.context.msBackingStorePixelRatio ||\n        this.context.oBackingStorePixelRatio ||\n        this.context.backingStorePixelRatio ||\n        1;\n\n    this.ratio = (window.devicePixelRatio || 1) / backingStore;\n\n    var rubberband_canvas = (this.rubberband_canvas = document.createElement(\n        'canvas'\n    ));\n    rubberband_canvas.setAttribute(\n        'style',\n        'box-sizing: content-box; position: absolute; left: 0; top: 0; z-index: 1;'\n    );\n\n    // Apply a ponyfill if ResizeObserver is not implemented by browser.\n    if (this.ResizeObserver === undefined) {\n        if (window.ResizeObserver !== undefined) {\n            this.ResizeObserver = window.ResizeObserver;\n        } else {\n            var obs = _JSXTOOLS_RESIZE_OBSERVER({});\n            this.ResizeObserver = obs.ResizeObserver;\n        }\n    }\n\n    this.resizeObserverInstance = new this.ResizeObserver(function (entries) {\n        var nentries = entries.length;\n        for (var i = 0; i < nentries; i++) {\n            var entry = entries[i];\n            var width, height;\n            if (entry.contentBoxSize) {\n                if (entry.contentBoxSize instanceof Array) {\n                    // Chrome 84 implements new version of spec.\n                    width = entry.contentBoxSize[0].inlineSize;\n                    height = entry.contentBoxSize[0].blockSize;\n                } else {\n                    // Firefox implements old version of spec.\n                    width = entry.contentBoxSize.inlineSize;\n                    height = entry.contentBoxSize.blockSize;\n                }\n            } else {\n                // Chrome <84 implements even older version of spec.\n                width = entry.contentRect.width;\n                height = entry.contentRect.height;\n            }\n\n            // Keep the size of the canvas and rubber band canvas in sync with\n            // the canvas container.\n            if (entry.devicePixelContentBoxSize) {\n                // Chrome 84 implements new version of spec.\n                canvas.setAttribute(\n                    'width',\n                    entry.devicePixelContentBoxSize[0].inlineSize\n                );\n                canvas.setAttribute(\n                    'height',\n                    entry.devicePixelContentBoxSize[0].blockSize\n                );\n            } else {\n                canvas.setAttribute('width', width * fig.ratio);\n                canvas.setAttribute('height', height * fig.ratio);\n            }\n            canvas.setAttribute(\n                'style',\n                'width: ' + width + 'px; height: ' + height + 'px;'\n            );\n\n            rubberband_canvas.setAttribute('width', width);\n            rubberband_canvas.setAttribute('height', height);\n\n            // And update the size in Python. We ignore the initial 0/0 size\n            // that occurs as the element is placed into the DOM, which should\n            // otherwise not happen due to the minimum size styling.\n            if (fig.ws.readyState == 1 && width != 0 && height != 0) {\n                fig.request_resize(width, height);\n            }\n        }\n    });\n    this.resizeObserverInstance.observe(canvas_div);\n\n    function on_mouse_event_closure(name) {\n        return function (event) {\n            return fig.mouse_event(event, name);\n        };\n    }\n\n    rubberband_canvas.addEventListener(\n        'mousedown',\n        on_mouse_event_closure('button_press')\n    );\n    rubberband_canvas.addEventListener(\n        'mouseup',\n        on_mouse_event_closure('button_release')\n    );\n    rubberband_canvas.addEventListener(\n        'dblclick',\n        on_mouse_event_closure('dblclick')\n    );\n    // Throttle sequential mouse events to 1 every 20ms.\n    rubberband_canvas.addEventListener(\n        'mousemove',\n        on_mouse_event_closure('motion_notify')\n    );\n\n    rubberband_canvas.addEventListener(\n        'mouseenter',\n        on_mouse_event_closure('figure_enter')\n    );\n    rubberband_canvas.addEventListener(\n        'mouseleave',\n        on_mouse_event_closure('figure_leave')\n    );\n\n    canvas_div.addEventListener('wheel', function (event) {\n        if (event.deltaY < 0) {\n            event.step = 1;\n        } else {\n            event.step = -1;\n        }\n        on_mouse_event_closure('scroll')(event);\n    });\n\n    canvas_div.appendChild(canvas);\n    canvas_div.appendChild(rubberband_canvas);\n\n    this.rubberband_context = rubberband_canvas.getContext('2d');\n    this.rubberband_context.strokeStyle = '#000000';\n\n    this._resize_canvas = function (width, height, forward) {\n        if (forward) {\n            canvas_div.style.width = width + 'px';\n            canvas_div.style.height = height + 'px';\n        }\n    };\n\n    // Disable right mouse context menu.\n    this.rubberband_canvas.addEventListener('contextmenu', function (_e) {\n        event.preventDefault();\n        return false;\n    });\n\n    function set_focus() {\n        canvas.focus();\n        canvas_div.focus();\n    }\n\n    window.setTimeout(set_focus, 100);\n};\n\nmpl.figure.prototype._init_toolbar = function () {\n    var fig = this;\n\n    var toolbar = document.createElement('div');\n    toolbar.classList = 'mpl-toolbar';\n    this.root.appendChild(toolbar);\n\n    function on_click_closure(name) {\n        return function (_event) {\n            return fig.toolbar_button_onclick(name);\n        };\n    }\n\n    function on_mouseover_closure(tooltip) {\n        return function (event) {\n            if (!event.currentTarget.disabled) {\n                return fig.toolbar_button_onmouseover(tooltip);\n            }\n        };\n    }\n\n    fig.buttons = {};\n    var buttonGroup = document.createElement('div');\n    buttonGroup.classList = 'mpl-button-group';\n    for (var toolbar_ind in mpl.toolbar_items) {\n        var name = mpl.toolbar_items[toolbar_ind][0];\n        var tooltip = mpl.toolbar_items[toolbar_ind][1];\n        var image = mpl.toolbar_items[toolbar_ind][2];\n        var method_name = mpl.toolbar_items[toolbar_ind][3];\n\n        if (!name) {\n            /* Instead of a spacer, we start a new button group. */\n            if (buttonGroup.hasChildNodes()) {\n                toolbar.appendChild(buttonGroup);\n            }\n            buttonGroup = document.createElement('div');\n            buttonGroup.classList = 'mpl-button-group';\n            continue;\n        }\n\n        var button = (fig.buttons[name] = document.createElement('button'));\n        button.classList = 'mpl-widget';\n        button.setAttribute('role', 'button');\n        button.setAttribute('aria-disabled', 'false');\n        button.addEventListener('click', on_click_closure(method_name));\n        button.addEventListener('mouseover', on_mouseover_closure(tooltip));\n\n        var icon_img = document.createElement('img');\n        icon_img.src = '_images/' + image + '.png';\n        icon_img.srcset = '_images/' + image + '_large.png 2x';\n        icon_img.alt = tooltip;\n        button.appendChild(icon_img);\n\n        buttonGroup.appendChild(button);\n    }\n\n    if (buttonGroup.hasChildNodes()) {\n        toolbar.appendChild(buttonGroup);\n    }\n\n    var fmt_picker = document.createElement('select');\n    fmt_picker.classList = 'mpl-widget';\n    toolbar.appendChild(fmt_picker);\n    this.format_dropdown = fmt_picker;\n\n    for (var ind in mpl.extensions) {\n        var fmt = mpl.extensions[ind];\n        var option = document.createElement('option');\n        option.selected = fmt === mpl.default_extension;\n        option.innerHTML = fmt;\n        fmt_picker.appendChild(option);\n    }\n\n    var status_bar = document.createElement('span');\n    status_bar.classList = 'mpl-message';\n    toolbar.appendChild(status_bar);\n    this.message = status_bar;\n};\n\nmpl.figure.prototype.request_resize = function (x_pixels, y_pixels) {\n    // Request matplotlib to resize the figure. Matplotlib will then trigger a resize in the client,\n    // which will in turn request a refresh of the image.\n    this.send_message('resize', { width: x_pixels, height: y_pixels });\n};\n\nmpl.figure.prototype.send_message = function (type, properties) {\n    properties['type'] = type;\n    properties['figure_id'] = this.id;\n    this.ws.send(JSON.stringify(properties));\n};\n\nmpl.figure.prototype.send_draw_message = function () {\n    if (!this.waiting) {\n        this.waiting = true;\n        this.ws.send(JSON.stringify({ type: 'draw', figure_id: this.id }));\n    }\n};\n\nmpl.figure.prototype.handle_save = function (fig, _msg) {\n    var format_dropdown = fig.format_dropdown;\n    var format = format_dropdown.options[format_dropdown.selectedIndex].value;\n    fig.ondownload(fig, format);\n};\n\nmpl.figure.prototype.handle_resize = function (fig, msg) {\n    var size = msg['size'];\n    if (size[0] !== fig.canvas.width || size[1] !== fig.canvas.height) {\n        fig._resize_canvas(size[0], size[1], msg['forward']);\n        fig.send_message('refresh', {});\n    }\n};\n\nmpl.figure.prototype.handle_rubberband = function (fig, msg) {\n    var x0 = msg['x0'] / fig.ratio;\n    var y0 = (fig.canvas.height - msg['y0']) / fig.ratio;\n    var x1 = msg['x1'] / fig.ratio;\n    var y1 = (fig.canvas.height - msg['y1']) / fig.ratio;\n    x0 = Math.floor(x0) + 0.5;\n    y0 = Math.floor(y0) + 0.5;\n    x1 = Math.floor(x1) + 0.5;\n    y1 = Math.floor(y1) + 0.5;\n    var min_x = Math.min(x0, x1);\n    var min_y = Math.min(y0, y1);\n    var width = Math.abs(x1 - x0);\n    var height = Math.abs(y1 - y0);\n\n    fig.rubberband_context.clearRect(\n        0,\n        0,\n        fig.canvas.width / fig.ratio,\n        fig.canvas.height / fig.ratio\n    );\n\n    fig.rubberband_context.strokeRect(min_x, min_y, width, height);\n};\n\nmpl.figure.prototype.handle_figure_label = function (fig, msg) {\n    // Updates the figure title.\n    fig.header.textContent = msg['label'];\n};\n\nmpl.figure.prototype.handle_cursor = function (fig, msg) {\n    fig.rubberband_canvas.style.cursor = msg['cursor'];\n};\n\nmpl.figure.prototype.handle_message = function (fig, msg) {\n    fig.message.textContent = msg['message'];\n};\n\nmpl.figure.prototype.handle_draw = function (fig, _msg) {\n    // Request the server to send over a new figure.\n    fig.send_draw_message();\n};\n\nmpl.figure.prototype.handle_image_mode = function (fig, msg) {\n    fig.image_mode = msg['mode'];\n};\n\nmpl.figure.prototype.handle_history_buttons = function (fig, msg) {\n    for (var key in msg) {\n        if (!(key in fig.buttons)) {\n            continue;\n        }\n        fig.buttons[key].disabled = !msg[key];\n        fig.buttons[key].setAttribute('aria-disabled', !msg[key]);\n    }\n};\n\nmpl.figure.prototype.handle_navigate_mode = function (fig, msg) {\n    if (msg['mode'] === 'PAN') {\n        fig.buttons['Pan'].classList.add('active');\n        fig.buttons['Zoom'].classList.remove('active');\n    } else if (msg['mode'] === 'ZOOM') {\n        fig.buttons['Pan'].classList.remove('active');\n        fig.buttons['Zoom'].classList.add('active');\n    } else {\n        fig.buttons['Pan'].classList.remove('active');\n        fig.buttons['Zoom'].classList.remove('active');\n    }\n};\n\nmpl.figure.prototype.updated_canvas_event = function () {\n    // Called whenever the canvas gets updated.\n    this.send_message('ack', {});\n};\n\n// A function to construct a web socket function for onmessage handling.\n// Called in the figure constructor.\nmpl.figure.prototype._make_on_message_function = function (fig) {\n    return function socket_on_message(evt) {\n        if (evt.data instanceof Blob) {\n            var img = evt.data;\n            if (img.type !== 'image/png') {\n                /* FIXME: We get \"Resource interpreted as Image but\n                 * transferred with MIME type text/plain:\" errors on\n                 * Chrome.  But how to set the MIME type?  It doesn't seem\n                 * to be part of the websocket stream */\n                img.type = 'image/png';\n            }\n\n            /* Free the memory for the previous frames */\n            if (fig.imageObj.src) {\n                (window.URL || window.webkitURL).revokeObjectURL(\n                    fig.imageObj.src\n                );\n            }\n\n            fig.imageObj.src = (window.URL || window.webkitURL).createObjectURL(\n                img\n            );\n            fig.updated_canvas_event();\n            fig.waiting = false;\n            return;\n        } else if (\n            typeof evt.data === 'string' &&\n            evt.data.slice(0, 21) === 'data:image/png;base64'\n        ) {\n            fig.imageObj.src = evt.data;\n            fig.updated_canvas_event();\n            fig.waiting = false;\n            return;\n        }\n\n        var msg = JSON.parse(evt.data);\n        var msg_type = msg['type'];\n\n        // Call the  \"handle_{type}\" callback, which takes\n        // the figure and JSON message as its only arguments.\n        try {\n            var callback = fig['handle_' + msg_type];\n        } catch (e) {\n            console.log(\n                \"No handler for the '\" + msg_type + \"' message type: \",\n                msg\n            );\n            return;\n        }\n\n        if (callback) {\n            try {\n                // console.log(\"Handling '\" + msg_type + \"' message: \", msg);\n                callback(fig, msg);\n            } catch (e) {\n                console.log(\n                    \"Exception inside the 'handler_\" + msg_type + \"' callback:\",\n                    e,\n                    e.stack,\n                    msg\n                );\n            }\n        }\n    };\n};\n\n// from https://stackoverflow.com/questions/1114465/getting-mouse-location-in-canvas\nmpl.findpos = function (e) {\n    //this section is from http://www.quirksmode.org/js/events_properties.html\n    var targ;\n    if (!e) {\n        e = window.event;\n    }\n    if (e.target) {\n        targ = e.target;\n    } else if (e.srcElement) {\n        targ = e.srcElement;\n    }\n    if (targ.nodeType === 3) {\n        // defeat Safari bug\n        targ = targ.parentNode;\n    }\n\n    // pageX,Y are the mouse positions relative to the document\n    var boundingRect = targ.getBoundingClientRect();\n    var x = e.pageX - (boundingRect.left + document.body.scrollLeft);\n    var y = e.pageY - (boundingRect.top + document.body.scrollTop);\n\n    return { x: x, y: y };\n};\n\n/*\n * return a copy of an object with only non-object keys\n * we need this to avoid circular references\n * https://stackoverflow.com/a/24161582/3208463\n */\nfunction simpleKeys(original) {\n    return Object.keys(original).reduce(function (obj, key) {\n        if (typeof original[key] !== 'object') {\n            obj[key] = original[key];\n        }\n        return obj;\n    }, {});\n}\n\nmpl.figure.prototype.mouse_event = function (event, name) {\n    var canvas_pos = mpl.findpos(event);\n\n    if (name === 'button_press') {\n        this.canvas.focus();\n        this.canvas_div.focus();\n    }\n\n    var x = canvas_pos.x * this.ratio;\n    var y = canvas_pos.y * this.ratio;\n\n    this.send_message(name, {\n        x: x,\n        y: y,\n        button: event.button,\n        step: event.step,\n        guiEvent: simpleKeys(event),\n    });\n\n    /* This prevents the web browser from automatically changing to\n     * the text insertion cursor when the button is pressed.  We want\n     * to control all of the cursor setting manually through the\n     * 'cursor' event from matplotlib */\n    event.preventDefault();\n    return false;\n};\n\nmpl.figure.prototype._key_event_extra = function (_event, _name) {\n    // Handle any extra behaviour associated with a key event\n};\n\nmpl.figure.prototype.key_event = function (event, name) {\n    // Prevent repeat events\n    if (name === 'key_press') {\n        if (event.key === this._key) {\n            return;\n        } else {\n            this._key = event.key;\n        }\n    }\n    if (name === 'key_release') {\n        this._key = null;\n    }\n\n    var value = '';\n    if (event.ctrlKey && event.key !== 'Control') {\n        value += 'ctrl+';\n    }\n    else if (event.altKey && event.key !== 'Alt') {\n        value += 'alt+';\n    }\n    else if (event.shiftKey && event.key !== 'Shift') {\n        value += 'shift+';\n    }\n\n    value += 'k' + event.key;\n\n    this._key_event_extra(event, name);\n\n    this.send_message(name, { key: value, guiEvent: simpleKeys(event) });\n    return false;\n};\n\nmpl.figure.prototype.toolbar_button_onclick = function (name) {\n    if (name === 'download') {\n        this.handle_save(this, null);\n    } else {\n        this.send_message('toolbar_button', { name: name });\n    }\n};\n\nmpl.figure.prototype.toolbar_button_onmouseover = function (tooltip) {\n    this.message.textContent = tooltip;\n};\n\n///////////////// REMAINING CONTENT GENERATED BY embed_js.py /////////////////\n// prettier-ignore\nvar _JSXTOOLS_RESIZE_OBSERVER=function(A){var t,i=new WeakMap,n=new WeakMap,a=new WeakMap,r=new WeakMap,o=new Set;function s(e){if(!(this instanceof s))throw new TypeError(\"Constructor requires 'new' operator\");i.set(this,e)}function h(){throw new TypeError(\"Function is not a constructor\")}function c(e,t,i,n){e=0 in arguments?Number(arguments[0]):0,t=1 in arguments?Number(arguments[1]):0,i=2 in arguments?Number(arguments[2]):0,n=3 in arguments?Number(arguments[3]):0,this.right=(this.x=this.left=e)+(this.width=i),this.bottom=(this.y=this.top=t)+(this.height=n),Object.freeze(this)}function d(){t=requestAnimationFrame(d);var s=new WeakMap,p=new Set;o.forEach((function(t){r.get(t).forEach((function(i){var r=t instanceof window.SVGElement,o=a.get(t),d=r?0:parseFloat(o.paddingTop),f=r?0:parseFloat(o.paddingRight),l=r?0:parseFloat(o.paddingBottom),u=r?0:parseFloat(o.paddingLeft),g=r?0:parseFloat(o.borderTopWidth),m=r?0:parseFloat(o.borderRightWidth),w=r?0:parseFloat(o.borderBottomWidth),b=u+f,F=d+l,v=(r?0:parseFloat(o.borderLeftWidth))+m,W=g+w,y=r?0:t.offsetHeight-W-t.clientHeight,E=r?0:t.offsetWidth-v-t.clientWidth,R=b+v,z=F+W,M=r?t.width:parseFloat(o.width)-R-E,O=r?t.height:parseFloat(o.height)-z-y;if(n.has(t)){var k=n.get(t);if(k[0]===M&&k[1]===O)return}n.set(t,[M,O]);var S=Object.create(h.prototype);S.target=t,S.contentRect=new c(u,d,M,O),s.has(i)||(s.set(i,[]),p.add(i)),s.get(i).push(S)}))})),p.forEach((function(e){i.get(e).call(e,s.get(e),e)}))}return s.prototype.observe=function(i){if(i instanceof window.Element){r.has(i)||(r.set(i,new Set),o.add(i),a.set(i,window.getComputedStyle(i)));var n=r.get(i);n.has(this)||n.add(this),cancelAnimationFrame(t),t=requestAnimationFrame(d)}},s.prototype.unobserve=function(i){if(i instanceof window.Element&&r.has(i)){var n=r.get(i);n.has(this)&&(n.delete(this),n.size||(r.delete(i),o.delete(i))),n.size||r.delete(i),o.size||cancelAnimationFrame(t)}},A.DOMRectReadOnly=c,A.ResizeObserver=s,A.ResizeObserverEntry=h,A}; // eslint-disable-line\nmpl.toolbar_items = [[\"Home\", \"Reset original view\", \"fa fa-home icon-home\", \"home\"], [\"Back\", \"Back to previous view\", \"fa fa-arrow-left icon-arrow-left\", \"back\"], [\"Forward\", \"Forward to next view\", \"fa fa-arrow-right icon-arrow-right\", \"forward\"], [\"\", \"\", \"\", \"\"], [\"Pan\", \"Left button pans, Right button zooms\\nx/y fixes axis, CTRL fixes aspect\", \"fa fa-arrows icon-move\", \"pan\"], [\"Zoom\", \"Zoom to rectangle\\nx/y fixes axis\", \"fa fa-square-o icon-check-empty\", \"zoom\"], [\"\", \"\", \"\", \"\"], [\"Download\", \"Download plot\", \"fa fa-floppy-o icon-save\", \"download\"]];\n\nmpl.extensions = [\"eps\", \"jpeg\", \"pgf\", \"pdf\", \"png\", \"ps\", \"raw\", \"svg\", \"tif\"];\n\nmpl.default_extension = \"png\";/* global mpl */\n\nvar comm_websocket_adapter = function (comm) {\n    // Create a \"websocket\"-like object which calls the given IPython comm\n    // object with the appropriate methods. Currently this is a non binary\n    // socket, so there is still some room for performance tuning.\n    var ws = {};\n\n    ws.binaryType = comm.kernel.ws.binaryType;\n    ws.readyState = comm.kernel.ws.readyState;\n    function updateReadyState(_event) {\n        if (comm.kernel.ws) {\n            ws.readyState = comm.kernel.ws.readyState;\n        } else {\n            ws.readyState = 3; // Closed state.\n        }\n    }\n    comm.kernel.ws.addEventListener('open', updateReadyState);\n    comm.kernel.ws.addEventListener('close', updateReadyState);\n    comm.kernel.ws.addEventListener('error', updateReadyState);\n\n    ws.close = function () {\n        comm.close();\n    };\n    ws.send = function (m) {\n        //console.log('sending', m);\n        comm.send(m);\n    };\n    // Register the callback with on_msg.\n    comm.on_msg(function (msg) {\n        //console.log('receiving', msg['content']['data'], msg);\n        var data = msg['content']['data'];\n        if (data['blob'] !== undefined) {\n            data = {\n                data: new Blob(msg['buffers'], { type: data['blob'] }),\n            };\n        }\n        // Pass the mpl event to the overridden (by mpl) onmessage function.\n        ws.onmessage(data);\n    });\n    return ws;\n};\n\nmpl.mpl_figure_comm = function (comm, msg) {\n    // This is the function which gets called when the mpl process\n    // starts-up an IPython Comm through the \"matplotlib\" channel.\n\n    var id = msg.content.data.id;\n    // Get hold of the div created by the display call when the Comm\n    // socket was opened in Python.\n    var element = document.getElementById(id);\n    var ws_proxy = comm_websocket_adapter(comm);\n\n    function ondownload(figure, _format) {\n        window.open(figure.canvas.toDataURL());\n    }\n\n    var fig = new mpl.figure(id, ws_proxy, ondownload, element);\n\n    // Call onopen now - mpl needs it, as it is assuming we've passed it a real\n    // web socket which is closed, not our websocket->open comm proxy.\n    ws_proxy.onopen();\n\n    fig.parent_element = element;\n    fig.cell_info = mpl.find_output_cell(\"<div id='\" + id + \"'></div>\");\n    if (!fig.cell_info) {\n        console.error('Failed to find cell for figure', id, fig);\n        return;\n    }\n    fig.cell_info[0].output_area.element.on(\n        'cleared',\n        { fig: fig },\n        fig._remove_fig_handler\n    );\n};\n\nmpl.figure.prototype.handle_close = function (fig, msg) {\n    var width = fig.canvas.width / fig.ratio;\n    fig.cell_info[0].output_area.element.off(\n        'cleared',\n        fig._remove_fig_handler\n    );\n    fig.resizeObserverInstance.unobserve(fig.canvas_div);\n\n    // Update the output cell to use the data from the current canvas.\n    fig.push_to_output();\n    var dataURL = fig.canvas.toDataURL();\n    // Re-enable the keyboard manager in IPython - without this line, in FF,\n    // the notebook keyboard shortcuts fail.\n    IPython.keyboard_manager.enable();\n    fig.parent_element.innerHTML =\n        '<img src=\"' + dataURL + '\" width=\"' + width + '\">';\n    fig.close_ws(fig, msg);\n};\n\nmpl.figure.prototype.close_ws = function (fig, msg) {\n    fig.send_message('closing', msg);\n    // fig.ws.close()\n};\n\nmpl.figure.prototype.push_to_output = function (_remove_interactive) {\n    // Turn the data on the canvas into data in the output cell.\n    var width = this.canvas.width / this.ratio;\n    var dataURL = this.canvas.toDataURL();\n    this.cell_info[1]['text/html'] =\n        '<img src=\"' + dataURL + '\" width=\"' + width + '\">';\n};\n\nmpl.figure.prototype.updated_canvas_event = function () {\n    // Tell IPython that the notebook contents must change.\n    IPython.notebook.set_dirty(true);\n    this.send_message('ack', {});\n    var fig = this;\n    // Wait a second, then push the new image to the DOM so\n    // that it is saved nicely (might be nice to debounce this).\n    setTimeout(function () {\n        fig.push_to_output();\n    }, 1000);\n};\n\nmpl.figure.prototype._init_toolbar = function () {\n    var fig = this;\n\n    var toolbar = document.createElement('div');\n    toolbar.classList = 'btn-toolbar';\n    this.root.appendChild(toolbar);\n\n    function on_click_closure(name) {\n        return function (_event) {\n            return fig.toolbar_button_onclick(name);\n        };\n    }\n\n    function on_mouseover_closure(tooltip) {\n        return function (event) {\n            if (!event.currentTarget.disabled) {\n                return fig.toolbar_button_onmouseover(tooltip);\n            }\n        };\n    }\n\n    fig.buttons = {};\n    var buttonGroup = document.createElement('div');\n    buttonGroup.classList = 'btn-group';\n    var button;\n    for (var toolbar_ind in mpl.toolbar_items) {\n        var name = mpl.toolbar_items[toolbar_ind][0];\n        var tooltip = mpl.toolbar_items[toolbar_ind][1];\n        var image = mpl.toolbar_items[toolbar_ind][2];\n        var method_name = mpl.toolbar_items[toolbar_ind][3];\n\n        if (!name) {\n            /* Instead of a spacer, we start a new button group. */\n            if (buttonGroup.hasChildNodes()) {\n                toolbar.appendChild(buttonGroup);\n            }\n            buttonGroup = document.createElement('div');\n            buttonGroup.classList = 'btn-group';\n            continue;\n        }\n\n        button = fig.buttons[name] = document.createElement('button');\n        button.classList = 'btn btn-default';\n        button.href = '#';\n        button.title = name;\n        button.innerHTML = '<i class=\"fa ' + image + ' fa-lg\"></i>';\n        button.addEventListener('click', on_click_closure(method_name));\n        button.addEventListener('mouseover', on_mouseover_closure(tooltip));\n        buttonGroup.appendChild(button);\n    }\n\n    if (buttonGroup.hasChildNodes()) {\n        toolbar.appendChild(buttonGroup);\n    }\n\n    // Add the status bar.\n    var status_bar = document.createElement('span');\n    status_bar.classList = 'mpl-message pull-right';\n    toolbar.appendChild(status_bar);\n    this.message = status_bar;\n\n    // Add the close button to the window.\n    var buttongrp = document.createElement('div');\n    buttongrp.classList = 'btn-group inline pull-right';\n    button = document.createElement('button');\n    button.classList = 'btn btn-mini btn-primary';\n    button.href = '#';\n    button.title = 'Stop Interaction';\n    button.innerHTML = '<i class=\"fa fa-power-off icon-remove icon-large\"></i>';\n    button.addEventListener('click', function (_evt) {\n        fig.handle_close(fig, {});\n    });\n    button.addEventListener(\n        'mouseover',\n        on_mouseover_closure('Stop Interaction')\n    );\n    buttongrp.appendChild(button);\n    var titlebar = this.root.querySelector('.ui-dialog-titlebar');\n    titlebar.insertBefore(buttongrp, titlebar.firstChild);\n};\n\nmpl.figure.prototype._remove_fig_handler = function (event) {\n    var fig = event.data.fig;\n    if (event.target !== this) {\n        // Ignore bubbled events from children.\n        return;\n    }\n    fig.close_ws(fig, {});\n};\n\nmpl.figure.prototype._root_extra_style = function (el) {\n    el.style.boxSizing = 'content-box'; // override notebook setting of border-box.\n};\n\nmpl.figure.prototype._canvas_extra_style = function (el) {\n    // this is important to make the div 'focusable\n    el.setAttribute('tabindex', 0);\n    // reach out to IPython and tell the keyboard manager to turn it's self\n    // off when our div gets focus\n\n    // location in version 3\n    if (IPython.notebook.keyboard_manager) {\n        IPython.notebook.keyboard_manager.register_events(el);\n    } else {\n        // location in version 2\n        IPython.keyboard_manager.register_events(el);\n    }\n};\n\nmpl.figure.prototype._key_event_extra = function (event, _name) {\n    // Check for shift+enter\n    if (event.shiftKey && event.which === 13) {\n        this.canvas_div.blur();\n        // select the cell after this one\n        var index = IPython.notebook.find_cell_index(this.cell_info[0]);\n        IPython.notebook.select(index + 1);\n    }\n};\n\nmpl.figure.prototype.handle_save = function (fig, _msg) {\n    fig.ondownload(fig, null);\n};\n\nmpl.find_output_cell = function (html_output) {\n    // Return the cell and output element which can be found *uniquely* in the notebook.\n    // Note - this is a bit hacky, but it is done because the \"notebook_saving.Notebook\"\n    // IPython event is triggered only after the cells have been serialised, which for\n    // our purposes (turning an active figure into a static one), is too late.\n    var cells = IPython.notebook.get_cells();\n    var ncells = cells.length;\n    for (var i = 0; i < ncells; i++) {\n        var cell = cells[i];\n        if (cell.cell_type === 'code') {\n            for (var j = 0; j < cell.output_area.outputs.length; j++) {\n                var data = cell.output_area.outputs[j];\n                if (data.data) {\n                    // IPython >= 3 moved mimebundle to data attribute of output\n                    data = data.data;\n                }\n                if (data['text/html'] === html_output) {\n                    return [cell, data, j];\n                }\n            }\n        }\n    }\n};\n\n// Register the function which deals with the matplotlib target/channel.\n// The kernel may be null if the page has been refreshed.\nif (IPython.notebook.kernel !== null) {\n    IPython.notebook.kernel.comm_manager.register_target(\n        'matplotlib',\n        mpl.mpl_figure_comm\n    );\n}\n",
          "text/plain": "<IPython.core.display.Javascript object>"
         },
         "metadata": {},
         "output_type": "display_data"
        },
        {
         "data": {
          "text/html": "<div id='db52a84a-56a7-4080-a449-29f6b465a0a1'></div>",
          "text/plain": "<IPython.core.display.HTML object>"
         },
         "metadata": {},
         "output_type": "display_data"
        }
       ]
      }
     },
     "e2e8772ff63d435191473af7f42beb8c": {
      "model_module": "@jupyter-widgets/base",
      "model_module_version": "1.2.0",
      "model_name": "LayoutModel",
      "state": {
       "grid_area": "widget002"
      }
     },
     "e4eed72fe4744113b1d1e1803fa7afa7": {
      "model_module": "@jupyter-widgets/output",
      "model_module_version": "1.0.0",
      "model_name": "OutputModel",
      "state": {
       "layout": "IPY_MODEL_1d25eabc6a3d43cdb244226132002d34",
       "outputs": [
        {
         "data": {
          "text/plain": "\"La predicció per l'isòtop de O més pesat és un nucli amb A = 51 Nucleons\""
         },
         "metadata": {},
         "output_type": "display_data"
        }
       ]
      }
     },
     "e5d9feb1aa9246e3b7309100f9bc81b0": {
      "model_module": "@jupyter-widgets/controls",
      "model_module_version": "1.5.0",
      "model_name": "TextModel",
      "state": {
       "description": "El rang (en nucleons) de l'isotop més pesat va de:",
       "layout": "IPY_MODEL_d7d9754aa3bf481f9b327d621757292c",
       "style": "IPY_MODEL_bcdffd90d3f240c190871c9b05ba6896"
      }
     },
     "ec7a2f37bab741228669789fd19e7973": {
      "model_module": "@jupyter-widgets/controls",
      "model_module_version": "1.5.0",
      "model_name": "DescriptionStyleModel",
      "state": {
       "description_width": "200px"
      }
     },
     "efa976f964fd4209ade08663c57b609b": {
      "model_module": "@jupyter-widgets/controls",
      "model_module_version": "1.5.0",
      "model_name": "DescriptionStyleModel",
      "state": {
       "description_width": "50px"
      }
     },
     "f146c9cbbfe943aaab33f748ec4a380b": {
      "model_module": "@jupyter-widgets/base",
      "model_module_version": "1.2.0",
      "model_name": "LayoutModel",
      "state": {}
     },
     "f2898d9d7cfc43239af52a0d8737c0f1": {
      "model_module": "@jupyter-widgets/controls",
      "model_module_version": "1.5.0",
      "model_name": "BoundedFloatTextModel",
      "state": {
       "description": "Volum:",
       "layout": "IPY_MODEL_4217be0832ba4f918294008e0e3a552d",
       "max": 20,
       "style": "IPY_MODEL_f2e3845e38194dfb989dbb5e4528cba6",
       "value": 16
      }
     },
     "f2e3845e38194dfb989dbb5e4528cba6": {
      "model_module": "@jupyter-widgets/controls",
      "model_module_version": "1.5.0",
      "model_name": "DescriptionStyleModel",
      "state": {
       "description_width": "200px"
      }
     },
     "f358b86642164ce49629fe55181f04d5": {
      "model_module": "@jupyter-widgets/base",
      "model_module_version": "1.2.0",
      "model_name": "LayoutModel",
      "state": {}
     },
     "f3624c8b1a324636a76470dd34d808de": {
      "model_module": "@jupyter-widgets/controls",
      "model_module_version": "1.5.0",
      "model_name": "DescriptionStyleModel",
      "state": {
       "description_width": ""
      }
     },
     "f4a717e830fb4ec3b466d89c8c8f8243": {
      "model_module": "@jupyter-widgets/base",
      "model_module_version": "1.2.0",
      "model_name": "LayoutModel",
      "state": {
       "width": "100px"
      }
     },
     "f6e725e53a9d40feb6c74227b39ff8d0": {
      "model_module": "@jupyter-widgets/controls",
      "model_module_version": "1.5.0",
      "model_name": "BoundedFloatTextModel",
      "state": {
       "description": "Asimetria:",
       "layout": "IPY_MODEL_4217be0832ba4f918294008e0e3a552d",
       "max": 50,
       "style": "IPY_MODEL_df722d7527664d4bb6f9e694b14a687d",
       "value": 23
      }
     },
     "fef3523773504312b26cde8df6fc8b96": {
      "model_module": "@jupyter-widgets/base",
      "model_module_version": "1.2.0",
      "model_name": "LayoutModel",
      "state": {
       "grid_area": "widget003"
      }
     }
    },
    "version_major": 2,
    "version_minor": 0
   }
  }
 },
 "nbformat": 4,
 "nbformat_minor": 5
}
